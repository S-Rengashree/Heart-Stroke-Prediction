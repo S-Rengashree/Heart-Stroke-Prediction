{
 "cells": [
  {
   "cell_type": "markdown",
   "id": "5cef350b",
   "metadata": {},
   "source": [
    "#### Importing necessary libraries:"
   ]
  },
  {
   "cell_type": "code",
   "execution_count": 1,
   "id": "976c78fe",
   "metadata": {},
   "outputs": [],
   "source": [
    "import os\n",
    "import numpy as np\n",
    "import pandas as pd\n",
    "import matplotlib.pyplot as plt\n",
    "import seaborn as sns\n",
    "from scipy import stats\n",
    "%matplotlib inline"
   ]
  },
  {
   "cell_type": "code",
   "execution_count": 2,
   "id": "fc8f5e13",
   "metadata": {},
   "outputs": [],
   "source": [
    "import warnings\n",
    "warnings.simplefilter('ignore') #ignore warning to imporve readability"
   ]
  },
  {
   "cell_type": "code",
   "execution_count": 3,
   "id": "581ac037",
   "metadata": {},
   "outputs": [],
   "source": [
    "from sklearn import linear_model\n",
    "from sklearn.linear_model import LogisticRegression \n",
    "from sklearn.datasets import make_regression\n",
    "from sklearn.tree import DecisionTreeClassifier\n",
    "from sklearn.ensemble import RandomForestClassifier\n",
    "from sklearn.ensemble import BaggingClassifier,AdaBoostClassifier\n",
    "from sklearn.neighbors import KNeighborsClassifier\n",
    "from sklearn.naive_bayes import GaussianNB\n",
    "from sklearn.svm import SVC\n",
    "from xgboost import XGBClassifier"
   ]
  },
  {
   "cell_type": "code",
   "execution_count": 4,
   "id": "41a5c169",
   "metadata": {},
   "outputs": [],
   "source": [
    "from sklearn.metrics import accuracy_score,confusion_matrix,classification_report, recall_score\n",
    "from sklearn.preprocessing import OneHotEncoder, LabelEncoder, MinMaxScaler, StandardScaler\n",
    "from statsmodels.stats.outliers_influence import variance_inflation_factor\n",
    "from sklearn.model_selection import train_test_split,cross_val_score\n",
    "from sklearn.model_selection import GridSearchCV\n",
    "from sklearn.model_selection import RandomizedSearchCV\n",
    "from imblearn.over_sampling import SMOTE\n",
    "from sklearn import model_selection\n",
    "from sklearn.impute import KNNImputer\n",
    "from sklearn.metrics import roc_curve\n",
    "from sklearn.model_selection import KFold\n",
    "from imblearn.combine import SMOTETomek\n",
    "from sklearn.metrics import precision_recall_curve"
   ]
  },
  {
   "cell_type": "code",
   "execution_count": 5,
   "id": "2936a37a",
   "metadata": {},
   "outputs": [],
   "source": [
    "#display all columns in dataframe\n",
    "pd.pandas.set_option('display.max_columns',None)"
   ]
  },
  {
   "cell_type": "markdown",
   "id": "f7505fda",
   "metadata": {},
   "source": [
    "#### Read the dataset:"
   ]
  },
  {
   "cell_type": "code",
   "execution_count": 6,
   "id": "247f6272",
   "metadata": {},
   "outputs": [
    {
     "data": {
      "text/plain": [
       "'C:\\\\Users\\\\S Rengashree\\\\Desktop\\\\Capstone project'"
      ]
     },
     "execution_count": 6,
     "metadata": {},
     "output_type": "execute_result"
    }
   ],
   "source": [
    "os.chdir('C:\\\\Users\\\\S Rengashree\\\\Desktop\\\\Capstone project')\n",
    "os.getcwd()"
   ]
  },
  {
   "cell_type": "code",
   "execution_count": 7,
   "id": "5ffd8e6b",
   "metadata": {},
   "outputs": [
    {
     "data": {
      "text/html": [
       "<div>\n",
       "<style scoped>\n",
       "    .dataframe tbody tr th:only-of-type {\n",
       "        vertical-align: middle;\n",
       "    }\n",
       "\n",
       "    .dataframe tbody tr th {\n",
       "        vertical-align: top;\n",
       "    }\n",
       "\n",
       "    .dataframe thead th {\n",
       "        text-align: right;\n",
       "    }\n",
       "</style>\n",
       "<table border=\"1\" class=\"dataframe\">\n",
       "  <thead>\n",
       "    <tr style=\"text-align: right;\">\n",
       "      <th></th>\n",
       "      <th>ID</th>\n",
       "      <th>Gender</th>\n",
       "      <th>Age</th>\n",
       "      <th>Hypertension</th>\n",
       "      <th>Heart_Disease</th>\n",
       "      <th>Ever_Married</th>\n",
       "      <th>Work_Type</th>\n",
       "      <th>Residence_Type</th>\n",
       "      <th>Avg_Glucose_Level</th>\n",
       "      <th>BMI</th>\n",
       "      <th>Smoking_Status</th>\n",
       "      <th>Stroke</th>\n",
       "    </tr>\n",
       "  </thead>\n",
       "  <tbody>\n",
       "    <tr>\n",
       "      <th>0</th>\n",
       "      <td>30669</td>\n",
       "      <td>Male</td>\n",
       "      <td>3.0</td>\n",
       "      <td>0</td>\n",
       "      <td>0</td>\n",
       "      <td>No</td>\n",
       "      <td>children</td>\n",
       "      <td>Rural</td>\n",
       "      <td>95.12</td>\n",
       "      <td>18.0</td>\n",
       "      <td>NaN</td>\n",
       "      <td>0</td>\n",
       "    </tr>\n",
       "    <tr>\n",
       "      <th>1</th>\n",
       "      <td>30468</td>\n",
       "      <td>Male</td>\n",
       "      <td>58.0</td>\n",
       "      <td>1</td>\n",
       "      <td>0</td>\n",
       "      <td>Yes</td>\n",
       "      <td>Private</td>\n",
       "      <td>Urban</td>\n",
       "      <td>87.96</td>\n",
       "      <td>39.2</td>\n",
       "      <td>never smoked</td>\n",
       "      <td>0</td>\n",
       "    </tr>\n",
       "    <tr>\n",
       "      <th>2</th>\n",
       "      <td>16523</td>\n",
       "      <td>Female</td>\n",
       "      <td>8.0</td>\n",
       "      <td>0</td>\n",
       "      <td>0</td>\n",
       "      <td>No</td>\n",
       "      <td>Private</td>\n",
       "      <td>Urban</td>\n",
       "      <td>110.89</td>\n",
       "      <td>17.6</td>\n",
       "      <td>NaN</td>\n",
       "      <td>0</td>\n",
       "    </tr>\n",
       "    <tr>\n",
       "      <th>3</th>\n",
       "      <td>56543</td>\n",
       "      <td>Female</td>\n",
       "      <td>70.0</td>\n",
       "      <td>0</td>\n",
       "      <td>0</td>\n",
       "      <td>Yes</td>\n",
       "      <td>Private</td>\n",
       "      <td>Rural</td>\n",
       "      <td>69.04</td>\n",
       "      <td>35.9</td>\n",
       "      <td>formerly smoked</td>\n",
       "      <td>0</td>\n",
       "    </tr>\n",
       "    <tr>\n",
       "      <th>4</th>\n",
       "      <td>46136</td>\n",
       "      <td>Male</td>\n",
       "      <td>14.0</td>\n",
       "      <td>0</td>\n",
       "      <td>0</td>\n",
       "      <td>No</td>\n",
       "      <td>Never_worked</td>\n",
       "      <td>Rural</td>\n",
       "      <td>161.28</td>\n",
       "      <td>19.1</td>\n",
       "      <td>NaN</td>\n",
       "      <td>0</td>\n",
       "    </tr>\n",
       "  </tbody>\n",
       "</table>\n",
       "</div>"
      ],
      "text/plain": [
       "      ID  Gender   Age  Hypertension  Heart_Disease Ever_Married  \\\n",
       "0  30669    Male   3.0             0              0           No   \n",
       "1  30468    Male  58.0             1              0          Yes   \n",
       "2  16523  Female   8.0             0              0           No   \n",
       "3  56543  Female  70.0             0              0          Yes   \n",
       "4  46136    Male  14.0             0              0           No   \n",
       "\n",
       "      Work_Type Residence_Type  Avg_Glucose_Level   BMI   Smoking_Status  \\\n",
       "0      children          Rural              95.12  18.0              NaN   \n",
       "1       Private          Urban              87.96  39.2     never smoked   \n",
       "2       Private          Urban             110.89  17.6              NaN   \n",
       "3       Private          Rural              69.04  35.9  formerly smoked   \n",
       "4  Never_worked          Rural             161.28  19.1              NaN   \n",
       "\n",
       "   Stroke  \n",
       "0       0  \n",
       "1       0  \n",
       "2       0  \n",
       "3       0  \n",
       "4       0  "
      ]
     },
     "execution_count": 7,
     "metadata": {},
     "output_type": "execute_result"
    }
   ],
   "source": [
    "df = pd.read_csv('Stroke.csv')\n",
    "df.head()"
   ]
  },
  {
   "cell_type": "markdown",
   "id": "f80c8811",
   "metadata": {},
   "source": [
    "#### Displaying basic information on the dataset:"
   ]
  },
  {
   "cell_type": "code",
   "execution_count": 8,
   "id": "e6f2ca2f",
   "metadata": {},
   "outputs": [
    {
     "name": "stdout",
     "output_type": "stream",
     "text": [
      "Information on dataset:\n",
      "\n",
      "<class 'pandas.core.frame.DataFrame'>\n",
      "RangeIndex: 43400 entries, 0 to 43399\n",
      "Data columns (total 12 columns):\n",
      " #   Column             Non-Null Count  Dtype  \n",
      "---  ------             --------------  -----  \n",
      " 0   ID                 43400 non-null  int64  \n",
      " 1   Gender             43400 non-null  object \n",
      " 2   Age                43400 non-null  float64\n",
      " 3   Hypertension       43400 non-null  int64  \n",
      " 4   Heart_Disease      43400 non-null  int64  \n",
      " 5   Ever_Married       43400 non-null  object \n",
      " 6   Work_Type          43400 non-null  object \n",
      " 7   Residence_Type     43400 non-null  object \n",
      " 8   Avg_Glucose_Level  43400 non-null  float64\n",
      " 9   BMI                41938 non-null  float64\n",
      " 10  Smoking_Status     30108 non-null  object \n",
      " 11  Stroke             43400 non-null  int64  \n",
      "dtypes: float64(3), int64(4), object(5)\n",
      "memory usage: 4.0+ MB\n"
     ]
    }
   ],
   "source": [
    "print('Information on dataset:\\n')\n",
    "df.info()"
   ]
  },
  {
   "cell_type": "code",
   "execution_count": 9,
   "id": "3d25b832",
   "metadata": {},
   "outputs": [
    {
     "name": "stdout",
     "output_type": "stream",
     "text": [
      "Number of rows: 43400\n",
      "Number of columns: 12\n",
      "Shape of the dataset: (43400, 12)\n"
     ]
    }
   ],
   "source": [
    "print('Number of rows:',df.shape[0])\n",
    "print('Number of columns:',df.shape[1])\n",
    "print('Shape of the dataset:',df.shape)"
   ]
  },
  {
   "cell_type": "code",
   "execution_count": 10,
   "id": "8924412c",
   "metadata": {},
   "outputs": [
    {
     "name": "stdout",
     "output_type": "stream",
     "text": [
      "Features in the dataset:\n",
      " Index(['ID', 'Gender', 'Age', 'Hypertension', 'Heart_Disease', 'Ever_Married',\n",
      "       'Work_Type', 'Residence_Type', 'Avg_Glucose_Level', 'BMI',\n",
      "       'Smoking_Status', 'Stroke'],\n",
      "      dtype='object')\n"
     ]
    }
   ],
   "source": [
    "print('Features in the dataset:\\n',df.columns)"
   ]
  },
  {
   "cell_type": "code",
   "execution_count": 11,
   "id": "6ce726b2",
   "metadata": {},
   "outputs": [
    {
     "name": "stdout",
     "output_type": "stream",
     "text": [
      "Descriptive statistics on the dataset:\n"
     ]
    },
    {
     "data": {
      "text/html": [
       "<div>\n",
       "<style scoped>\n",
       "    .dataframe tbody tr th:only-of-type {\n",
       "        vertical-align: middle;\n",
       "    }\n",
       "\n",
       "    .dataframe tbody tr th {\n",
       "        vertical-align: top;\n",
       "    }\n",
       "\n",
       "    .dataframe thead th {\n",
       "        text-align: right;\n",
       "    }\n",
       "</style>\n",
       "<table border=\"1\" class=\"dataframe\">\n",
       "  <thead>\n",
       "    <tr style=\"text-align: right;\">\n",
       "      <th></th>\n",
       "      <th>count</th>\n",
       "      <th>mean</th>\n",
       "      <th>std</th>\n",
       "      <th>min</th>\n",
       "      <th>25%</th>\n",
       "      <th>50%</th>\n",
       "      <th>75%</th>\n",
       "      <th>max</th>\n",
       "    </tr>\n",
       "  </thead>\n",
       "  <tbody>\n",
       "    <tr>\n",
       "      <th>ID</th>\n",
       "      <td>43400.0</td>\n",
       "      <td>36326.142350</td>\n",
       "      <td>21072.134879</td>\n",
       "      <td>1.00</td>\n",
       "      <td>18038.50</td>\n",
       "      <td>36351.50</td>\n",
       "      <td>54514.25</td>\n",
       "      <td>72943.00</td>\n",
       "    </tr>\n",
       "    <tr>\n",
       "      <th>Age</th>\n",
       "      <td>43400.0</td>\n",
       "      <td>42.217894</td>\n",
       "      <td>22.519649</td>\n",
       "      <td>0.08</td>\n",
       "      <td>24.00</td>\n",
       "      <td>44.00</td>\n",
       "      <td>60.00</td>\n",
       "      <td>82.00</td>\n",
       "    </tr>\n",
       "    <tr>\n",
       "      <th>Hypertension</th>\n",
       "      <td>43400.0</td>\n",
       "      <td>0.093571</td>\n",
       "      <td>0.291235</td>\n",
       "      <td>0.00</td>\n",
       "      <td>0.00</td>\n",
       "      <td>0.00</td>\n",
       "      <td>0.00</td>\n",
       "      <td>1.00</td>\n",
       "    </tr>\n",
       "    <tr>\n",
       "      <th>Heart_Disease</th>\n",
       "      <td>43400.0</td>\n",
       "      <td>0.047512</td>\n",
       "      <td>0.212733</td>\n",
       "      <td>0.00</td>\n",
       "      <td>0.00</td>\n",
       "      <td>0.00</td>\n",
       "      <td>0.00</td>\n",
       "      <td>1.00</td>\n",
       "    </tr>\n",
       "    <tr>\n",
       "      <th>Avg_Glucose_Level</th>\n",
       "      <td>43400.0</td>\n",
       "      <td>104.482750</td>\n",
       "      <td>43.111751</td>\n",
       "      <td>55.00</td>\n",
       "      <td>77.54</td>\n",
       "      <td>91.58</td>\n",
       "      <td>112.07</td>\n",
       "      <td>291.05</td>\n",
       "    </tr>\n",
       "    <tr>\n",
       "      <th>BMI</th>\n",
       "      <td>41938.0</td>\n",
       "      <td>28.605038</td>\n",
       "      <td>7.770020</td>\n",
       "      <td>10.10</td>\n",
       "      <td>23.20</td>\n",
       "      <td>27.70</td>\n",
       "      <td>32.90</td>\n",
       "      <td>97.60</td>\n",
       "    </tr>\n",
       "    <tr>\n",
       "      <th>Stroke</th>\n",
       "      <td>43400.0</td>\n",
       "      <td>0.018041</td>\n",
       "      <td>0.133103</td>\n",
       "      <td>0.00</td>\n",
       "      <td>0.00</td>\n",
       "      <td>0.00</td>\n",
       "      <td>0.00</td>\n",
       "      <td>1.00</td>\n",
       "    </tr>\n",
       "  </tbody>\n",
       "</table>\n",
       "</div>"
      ],
      "text/plain": [
       "                     count          mean           std    min       25%  \\\n",
       "ID                 43400.0  36326.142350  21072.134879   1.00  18038.50   \n",
       "Age                43400.0     42.217894     22.519649   0.08     24.00   \n",
       "Hypertension       43400.0      0.093571      0.291235   0.00      0.00   \n",
       "Heart_Disease      43400.0      0.047512      0.212733   0.00      0.00   \n",
       "Avg_Glucose_Level  43400.0    104.482750     43.111751  55.00     77.54   \n",
       "BMI                41938.0     28.605038      7.770020  10.10     23.20   \n",
       "Stroke             43400.0      0.018041      0.133103   0.00      0.00   \n",
       "\n",
       "                        50%       75%       max  \n",
       "ID                 36351.50  54514.25  72943.00  \n",
       "Age                   44.00     60.00     82.00  \n",
       "Hypertension           0.00      0.00      1.00  \n",
       "Heart_Disease          0.00      0.00      1.00  \n",
       "Avg_Glucose_Level     91.58    112.07    291.05  \n",
       "BMI                   27.70     32.90     97.60  \n",
       "Stroke                 0.00      0.00      1.00  "
      ]
     },
     "execution_count": 11,
     "metadata": {},
     "output_type": "execute_result"
    }
   ],
   "source": [
    "print('Descriptive statistics on the dataset:')\n",
    "df.describe().transpose()"
   ]
  },
  {
   "cell_type": "code",
   "execution_count": 12,
   "id": "1c9af6b3",
   "metadata": {},
   "outputs": [
    {
     "name": "stdout",
     "output_type": "stream",
     "text": [
      "Datatype of the features:\n"
     ]
    },
    {
     "data": {
      "text/plain": [
       "ID                     int64\n",
       "Gender                object\n",
       "Age                  float64\n",
       "Hypertension           int64\n",
       "Heart_Disease          int64\n",
       "Ever_Married          object\n",
       "Work_Type             object\n",
       "Residence_Type        object\n",
       "Avg_Glucose_Level    float64\n",
       "BMI                  float64\n",
       "Smoking_Status        object\n",
       "Stroke                 int64\n",
       "dtype: object"
      ]
     },
     "execution_count": 12,
     "metadata": {},
     "output_type": "execute_result"
    }
   ],
   "source": [
    "print('Datatype of the features:')\n",
    "df.dtypes"
   ]
  },
  {
   "cell_type": "code",
   "execution_count": 13,
   "id": "ee5b256a",
   "metadata": {},
   "outputs": [
    {
     "data": {
      "text/plain": [
       "object     5\n",
       "int64      4\n",
       "float64    3\n",
       "dtype: int64"
      ]
     },
     "execution_count": 13,
     "metadata": {},
     "output_type": "execute_result"
    }
   ],
   "source": [
    "df.dtypes.value_counts()"
   ]
  },
  {
   "cell_type": "code",
   "execution_count": 14,
   "id": "49716edc",
   "metadata": {},
   "outputs": [],
   "source": [
    "data = df.copy()"
   ]
  },
  {
   "cell_type": "markdown",
   "id": "cd0ff3f5",
   "metadata": {},
   "source": [
    "#### Exploratory Data Analysis:"
   ]
  },
  {
   "cell_type": "markdown",
   "id": "536b335d",
   "metadata": {},
   "source": [
    "#### Checking prevalence rate of the dataset:"
   ]
  },
  {
   "cell_type": "markdown",
   "id": "9ebd7c2e",
   "metadata": {},
   "source": [
    "#### Prevalence Rate: \n",
    "It is used to find if the data set is balanced or not. The condition for balanced data is the minority class of the dataset should have more than 25% of data. Example: 60-40,70-30. In this the minority class is having 40 and 30 percent of data respectively. So such dataset are balanced.\n",
    "\n",
    "We can use this to find the metrics that we will adopt for the model.\n",
    "\n",
    "If the actual value is 0 and model is predicting 1, it is called 'False-Positive(FP)'.\n",
    "If the actual value is 1 and model is predicting 0, it is called 'False-Negative(FN)'.\n",
    "If the actual value is 0 and model is predicting 0, it is called 'True-Negative(TN)'.\n",
    "If the actual value is 1 and model is predicting 1, it is called 'True-Positive(TP)'.\n",
    "If the dataset is balanced the metrics we use is Accuracy. Else depending on 'False-Positive(FP)' and 'False-Negative(FN)' and their misclassification we can go for Precision, Recall or F1-Score.\n",
    "\n",
    "If concentration is more on FP -> Metrics = Precision.\n",
    "\n",
    "If concentration is more on FN -> Metrics = Recall.\n",
    "\n",
    "If concentration is more on both FN and FP -> Metrics = F1-Score. [Misclassification]\n",
    "\n",
    "If concentration is more on both TN and TP -> Metrics = Accuracy. [Correct Classification]\n",
    "\n",
    "This is done with the help of confusion matrix."
   ]
  },
  {
   "cell_type": "code",
   "execution_count": 15,
   "id": "6897df29",
   "metadata": {},
   "outputs": [
    {
     "data": {
      "text/plain": [
       "0    0.981959\n",
       "1    0.018041\n",
       "Name: Stroke, dtype: float64"
      ]
     },
     "execution_count": 15,
     "metadata": {},
     "output_type": "execute_result"
    }
   ],
   "source": [
    "#Prevalence rate of the dataset\n",
    "df['Stroke'].value_counts(normalize=True)"
   ]
  },
  {
   "cell_type": "markdown",
   "id": "18b75f25",
   "metadata": {},
   "source": [
    "We can see the the dataset is extremely imbalanced."
   ]
  },
  {
   "cell_type": "code",
   "execution_count": 16,
   "id": "941f948a",
   "metadata": {},
   "outputs": [
    {
     "data": {
      "image/png": "[encoded data removed]",
      "text/plain": [
       "<Figure size 504x504 with 1 Axes>"
      ]
     },
     "metadata": {},
     "output_type": "display_data"
    }
   ],
   "source": [
    "labels = df['Stroke'].value_counts(sort = True).index\n",
    "sizes = df['Stroke'].value_counts(sort = True)\n",
    " \n",
    "colors = [\"lightblue\",\"red\"]\n",
    "explode = (0.05,0) \n",
    "  \n",
    "plt.figure(figsize=(7,7))\n",
    "plt.pie(sizes, explode=explode, labels=labels, colors=colors, autopct='%1.1f%%', shadow=True, startangle=90,)\n",
    " \n",
    "plt.title('Stroke Breakdown')\n",
    "plt.show()"
   ]
  },
  {
   "cell_type": "code",
   "execution_count": 17,
   "id": "2820a8d2",
   "metadata": {},
   "outputs": [
    {
     "data": {
      "image/png": "[encoded data removed]",
      "text/plain": [
       "<Figure size 720x360 with 1 Axes>"
      ]
     },
     "metadata": {
      "needs_background": "light"
     },
     "output_type": "display_data"
    },
    {
     "data": {
      "image/png": "[encoded data removed]",
      "text/plain": [
       "<Figure size 720x360 with 1 Axes>"
      ]
     },
     "metadata": {
      "needs_background": "light"
     },
     "output_type": "display_data"
    }
   ],
   "source": [
    "#Gender:\n",
    "\n",
    "plt.figure(figsize=(10,5))\n",
    "sns.countplot(data=df,x='Gender');\n",
    "plt.show()\n",
    "\n",
    "plt.figure(figsize=(10,5))\n",
    "sns.countplot(data=df,x='Gender',hue='Stroke')\n",
    "plt.show()#This plot will help to analyze how gender will affect chances of stroke."
   ]
  },
  {
   "cell_type": "markdown",
   "id": "192860f1",
   "metadata": {},
   "source": [
    "There is about 10000 diffrence between Female and Male in the data and Female has more stroke than male."
   ]
  },
  {
   "cell_type": "code",
   "execution_count": 18,
   "id": "393bc368",
   "metadata": {},
   "outputs": [
    {
     "data": {
      "image/png": "[encoded data removed]",
      "text/plain": [
       "<Figure size 1080x360 with 2 Axes>"
      ]
     },
     "metadata": {
      "needs_background": "light"
     },
     "output_type": "display_data"
    }
   ],
   "source": [
    "#Correlation with average glucose level\n",
    "\n",
    "fig, axes = plt.subplots(nrows=1, ncols=2, figsize=(15, 5))\n",
    "df.plot(kind='scatter', x='Age', y='Avg_Glucose_Level', alpha=0.5, color='green', ax=axes[0], title=\"Age vs. Avg_Glucose_Level\")\n",
    "df.plot(kind='scatter', x='BMI', y='Avg_Glucose_Level', alpha=0.5, color='red', ax=axes[1], title=\"BMI vs. Avg_Glucose_Level\")\n",
    "plt.show()"
   ]
  },
  {
   "cell_type": "markdown",
   "id": "6a518bde",
   "metadata": {},
   "source": [
    "Average glucose level is high with old people.\n",
    "BMI > 60 have low average glucose."
   ]
  },
  {
   "cell_type": "code",
   "execution_count": 19,
   "id": "01392b1d",
   "metadata": {},
   "outputs": [
    {
     "data": {
      "text/plain": [
       "<Figure size 720x360 with 0 Axes>"
      ]
     },
     "metadata": {},
     "output_type": "display_data"
    },
    {
     "data": {
      "image/png": "[encoded data removed]",
      "text/plain": [
       "<Figure size 360x360 with 1 Axes>"
      ]
     },
     "metadata": {
      "needs_background": "light"
     },
     "output_type": "display_data"
    },
    {
     "data": {
      "image/png": "[encoded data removed]",
      "text/plain": [
       "<Figure size 720x360 with 1 Axes>"
      ]
     },
     "metadata": {
      "needs_background": "light"
     },
     "output_type": "display_data"
    }
   ],
   "source": [
    "df['Avg_Glucose_Level'].nunique()\n",
    "# Number of unique values\n",
    "plt.figure(figsize=(10,5))\n",
    "sns.displot(df['Avg_Glucose_Level'])\n",
    "# Distribution of avg_glucose_level\n",
    "plt.figure(figsize=(10,5))\n",
    "sns.boxplot(data=df,x='Stroke',y='Avg_Glucose_Level')\n",
    "plt.show()\n",
    "# Avg_glucose_level and Stroke"
   ]
  },
  {
   "cell_type": "markdown",
   "id": "88bbd974",
   "metadata": {},
   "source": [
    "Observation:\n",
    "\n",
    "From this above graph, we can see that people having stroke have an average glucose level of more than 100. There are some obvious outliers in patients who have no stroke but there are some chances of this being genuine records."
   ]
  },
  {
   "cell_type": "code",
   "execution_count": 20,
   "id": "49b2049e",
   "metadata": {},
   "outputs": [
    {
     "data": {
      "text/plain": [
       "<Figure size 720x360 with 0 Axes>"
      ]
     },
     "metadata": {},
     "output_type": "display_data"
    },
    {
     "data": {
      "image/png": "[encoded data removed]",
      "text/plain": [
       "<Figure size 360x360 with 1 Axes>"
      ]
     },
     "metadata": {
      "needs_background": "light"
     },
     "output_type": "display_data"
    },
    {
     "data": {
      "image/png": "[encoded data removed]",
      "text/plain": [
       "<Figure size 720x360 with 1 Axes>"
      ]
     },
     "metadata": {
      "needs_background": "light"
     },
     "output_type": "display_data"
    }
   ],
   "source": [
    "df['BMI'].isna().sum()\n",
    "\n",
    "# Returns number null values\n",
    "df['BMI'].nunique()\n",
    "\n",
    "# Returns number of unique values in that attribute\n",
    "plt.figure(figsize=(10,5))\n",
    "sns.displot(df['BMI'])\n",
    "plt.show()\n",
    "\n",
    "# Distribution of bmi\n",
    "plt.figure(figsize=(10,5))\n",
    "sns.boxplot(data=df,x='Stroke',y='BMI')\n",
    "plt.show()\n",
    "# BMI with respect to Stroke"
   ]
  },
  {
   "cell_type": "markdown",
   "id": "75ee10ee",
   "metadata": {},
   "source": [
    "There is as such no prominent observation of how does BMI affects the chances of having a stroke."
   ]
  },
  {
   "cell_type": "code",
   "execution_count": 21,
   "id": "76038fa1",
   "metadata": {},
   "outputs": [
    {
     "data": {
      "image/png": "[encoded data removed]",
      "text/plain": [
       "<Figure size 1080x504 with 2 Axes>"
      ]
     },
     "metadata": {
      "needs_background": "light"
     },
     "output_type": "display_data"
    }
   ],
   "source": [
    "#Heatmap Correlation\n",
    "\n",
    "plt.figure(figsize=(15,7))\n",
    "sns.heatmap(df.corr(),annot=True);"
   ]
  },
  {
   "cell_type": "markdown",
   "id": "686744cb",
   "metadata": {},
   "source": [
    "There is no correlation between stroke and BMI."
   ]
  },
  {
   "cell_type": "code",
   "execution_count": 22,
   "id": "409392ee",
   "metadata": {},
   "outputs": [
    {
     "data": {
      "text/html": [
       "<div>\n",
       "<style scoped>\n",
       "    .dataframe tbody tr th:only-of-type {\n",
       "        vertical-align: middle;\n",
       "    }\n",
       "\n",
       "    .dataframe tbody tr th {\n",
       "        vertical-align: top;\n",
       "    }\n",
       "\n",
       "    .dataframe thead th {\n",
       "        text-align: right;\n",
       "    }\n",
       "</style>\n",
       "<table border=\"1\" class=\"dataframe\">\n",
       "  <thead>\n",
       "    <tr style=\"text-align: right;\">\n",
       "      <th></th>\n",
       "      <th>Stroke</th>\n",
       "      <th>0</th>\n",
       "      <th>1</th>\n",
       "    </tr>\n",
       "  </thead>\n",
       "  <tbody>\n",
       "    <tr>\n",
       "      <th rowspan=\"3\" valign=\"top\">Gender</th>\n",
       "      <th>Female</th>\n",
       "      <td>25234</td>\n",
       "      <td>431</td>\n",
       "    </tr>\n",
       "    <tr>\n",
       "      <th>Male</th>\n",
       "      <td>17372</td>\n",
       "      <td>352</td>\n",
       "    </tr>\n",
       "    <tr>\n",
       "      <th>Other</th>\n",
       "      <td>11</td>\n",
       "      <td>0</td>\n",
       "    </tr>\n",
       "    <tr>\n",
       "      <th rowspan=\"2\" valign=\"top\">Residence_Type</th>\n",
       "      <th>Rural</th>\n",
       "      <td>21260</td>\n",
       "      <td>384</td>\n",
       "    </tr>\n",
       "    <tr>\n",
       "      <th>Urban</th>\n",
       "      <td>21357</td>\n",
       "      <td>399</td>\n",
       "    </tr>\n",
       "    <tr>\n",
       "      <th rowspan=\"3\" valign=\"top\">Smoking_Status</th>\n",
       "      <th>formerly smoked</th>\n",
       "      <td>7272</td>\n",
       "      <td>221</td>\n",
       "    </tr>\n",
       "    <tr>\n",
       "      <th>never smoked</th>\n",
       "      <td>15769</td>\n",
       "      <td>284</td>\n",
       "    </tr>\n",
       "    <tr>\n",
       "      <th>smokes</th>\n",
       "      <td>6429</td>\n",
       "      <td>133</td>\n",
       "    </tr>\n",
       "  </tbody>\n",
       "</table>\n",
       "</div>"
      ],
      "text/plain": [
       "Stroke                              0    1\n",
       "Gender         Female           25234  431\n",
       "               Male             17372  352\n",
       "               Other               11    0\n",
       "Residence_Type Rural            21260  384\n",
       "               Urban            21357  399\n",
       "Smoking_Status formerly smoked   7272  221\n",
       "               never smoked     15769  284\n",
       "               smokes            6429  133"
      ]
     },
     "execution_count": 22,
     "metadata": {},
     "output_type": "execute_result"
    }
   ],
   "source": [
    "#Stroke or not in Categorical Features\n",
    "\n",
    "cat_df = df[['Gender','Residence_Type','Smoking_Status','Stroke']]\n",
    "summary = pd.concat([pd.crosstab(cat_df[x], cat_df.Stroke) for x in cat_df.columns[:-1]], keys=cat_df.columns[:-1])\n",
    "summary"
   ]
  },
  {
   "cell_type": "code",
   "execution_count": 23,
   "id": "b67cc93b",
   "metadata": {
    "scrolled": true
   },
   "outputs": [
    {
     "data": {
      "image/png": "[encoded data removed]",
      "text/plain": [
       "<Figure size 720x360 with 1 Axes>"
      ]
     },
     "metadata": {
      "needs_background": "light"
     },
     "output_type": "display_data"
    },
    {
     "data": {
      "image/png": "[encoded data removed]",
      "text/plain": [
       "<Figure size 720x360 with 1 Axes>"
      ]
     },
     "metadata": {
      "needs_background": "light"
     },
     "output_type": "display_data"
    }
   ],
   "source": [
    "#Stroke/Ever Married\n",
    "\n",
    "plt.figure(figsize=(10,5))\n",
    "strok=df.loc[df['Stroke']==1]\n",
    "sns.countplot(data=df,x='Ever_Married',palette='inferno');\n",
    "plt.show()\n",
    "\n",
    "plt.figure(figsize=(10,5))\n",
    "sns.countplot(data=df,x='Ever_Married',hue='Stroke',palette='inferno')\n",
    "plt.show()#Ever married with respect of stroke"
   ]
  },
  {
   "cell_type": "markdown",
   "id": "66bd79d7",
   "metadata": {},
   "source": [
    "Stroke is common among married compared to not married."
   ]
  },
  {
   "cell_type": "code",
   "execution_count": 24,
   "id": "e8e025a5",
   "metadata": {},
   "outputs": [
    {
     "data": {
      "image/png": "[encoded data removed]",
      "text/plain": [
       "<Figure size 720x360 with 1 Axes>"
      ]
     },
     "metadata": {
      "needs_background": "light"
     },
     "output_type": "display_data"
    },
    {
     "data": {
      "image/png": "[encoded data removed]",
      "text/plain": [
       "<Figure size 720x360 with 1 Axes>"
      ]
     },
     "metadata": {
      "needs_background": "light"
     },
     "output_type": "display_data"
    }
   ],
   "source": [
    "#Stroke/Work Type\n",
    "\n",
    "plt.figure(figsize=(10,5))\n",
    "sns.countplot(data=df,x='Work_Type',palette='cool');\n",
    "plt.show()\n",
    "\n",
    "\n",
    "plt.figure(figsize=(10,5))\n",
    "sns.countplot(data=df,x='Work_Type',hue='Stroke',palette='cool')\n",
    "plt.show()#Above code will create a count plot with respect to stroke"
   ]
  },
  {
   "cell_type": "markdown",
   "id": "9f8cd922",
   "metadata": {},
   "source": [
    "Stroke is very common among people working in private sectors and very low never worked and children."
   ]
  },
  {
   "cell_type": "code",
   "execution_count": 25,
   "id": "1a182e6b",
   "metadata": {},
   "outputs": [
    {
     "data": {
      "image/png": "[encoded data removed]",
      "text/plain": [
       "<Figure size 720x360 with 1 Axes>"
      ]
     },
     "metadata": {
      "needs_background": "light"
     },
     "output_type": "display_data"
    },
    {
     "data": {
      "image/png": "[encoded data removed]",
      "text/plain": [
       "<Figure size 720x360 with 1 Axes>"
      ]
     },
     "metadata": {
      "needs_background": "light"
     },
     "output_type": "display_data"
    }
   ],
   "source": [
    "#Stroke/Smoking Status\n",
    "\n",
    "plt.figure(figsize=(10,5))\n",
    "sns.countplot(data=df,x='Smoking_Status',palette='autumn');\n",
    "plt.show()\n",
    "\n",
    "plt.figure(figsize=(10,5))\n",
    "sns.countplot(data=df,x='Smoking_Status',palette='autumn',hue='Stroke');\n",
    "plt.show()"
   ]
  },
  {
   "cell_type": "code",
   "execution_count": 26,
   "id": "a6dbb431",
   "metadata": {},
   "outputs": [
    {
     "data": {
      "image/png": "[encoded data removed]",
      "text/plain": [
       "<Figure size 720x360 with 1 Axes>"
      ]
     },
     "metadata": {
      "needs_background": "light"
     },
     "output_type": "display_data"
    },
    {
     "data": {
      "image/png": "[encoded data removed]",
      "text/plain": [
       "<Figure size 720x360 with 1 Axes>"
      ]
     },
     "metadata": {
      "needs_background": "light"
     },
     "output_type": "display_data"
    }
   ],
   "source": [
    "#Residence Type\n",
    "\n",
    "plt.figure(figsize=(10,5))\n",
    "sns.countplot(data=df,x='Residence_Type',palette='Greens');\n",
    "plt.show()\n",
    "\n",
    "plt.figure(figsize=(10,5))\n",
    "sns.countplot(data=df,x='Residence_Type',hue='Stroke',palette='Greens')\n",
    "plt.show()#Residence Type with respect to stroke"
   ]
  },
  {
   "cell_type": "markdown",
   "id": "7525cb9d",
   "metadata": {},
   "source": [
    "Residence type does not affect stroke. It is more or less similar in both Rural and Urban."
   ]
  },
  {
   "cell_type": "code",
   "execution_count": 27,
   "id": "6affaa9c",
   "metadata": {},
   "outputs": [
    {
     "data": {
      "image/png": "[encoded data removed]",
      "text/plain": [
       "<Figure size 720x360 with 1 Axes>"
      ]
     },
     "metadata": {
      "needs_background": "light"
     },
     "output_type": "display_data"
    },
    {
     "data": {
      "image/png": "[encoded data removed]",
      "text/plain": [
       "<Figure size 720x360 with 1 Axes>"
      ]
     },
     "metadata": {
      "needs_background": "light"
     },
     "output_type": "display_data"
    }
   ],
   "source": [
    "#Stroke/Heart Disease\n",
    "\n",
    "plt.figure(figsize=(10,5))\n",
    "sns.countplot(data=df,x='Heart_Disease',palette='Reds');\n",
    "plt.show()\n",
    "\n",
    "plt.figure(figsize=(10,5))\n",
    "sns.countplot(data=df,x='Heart_Disease',hue='Stroke',palette='Reds')\n",
    "plt.show()"
   ]
  },
  {
   "cell_type": "markdown",
   "id": "0d636905",
   "metadata": {},
   "source": [
    "Most people who have had a stroke do not have any heart disease, but that does not prevent it being an influential factor."
   ]
  },
  {
   "cell_type": "code",
   "execution_count": 28,
   "id": "39038ebc",
   "metadata": {},
   "outputs": [
    {
     "data": {
      "image/png": "[encoded data removed]",
      "text/plain": [
       "<Figure size 720x360 with 1 Axes>"
      ]
     },
     "metadata": {
      "needs_background": "light"
     },
     "output_type": "display_data"
    },
    {
     "data": {
      "image/png": "[encoded data removed]",
      "text/plain": [
       "<Figure size 720x360 with 1 Axes>"
      ]
     },
     "metadata": {
      "needs_background": "light"
     },
     "output_type": "display_data"
    }
   ],
   "source": [
    "#Hypertension\n",
    "\n",
    "plt.figure(figsize=(10,5))\n",
    "sns.countplot(data=df,x='Hypertension',palette='Pastel2');\n",
    "plt.show()\n",
    "\n",
    "plt.figure(figsize=(10,5))\n",
    "sns.countplot(data=df,x='Hypertension',hue='Stroke',palette='Pastel2')\n",
    "plt.show() #Above code will plot a boxplot of variable HYpertension with respect of target attribute stroke"
   ]
  },
  {
   "cell_type": "markdown",
   "id": "f48670b7",
   "metadata": {},
   "source": [
    "Hypertension can cause a stroke. Based on our data picture is not that clear for hypertension. It has quite little data on patients having hypertension."
   ]
  },
  {
   "cell_type": "markdown",
   "id": "83a7d5f5",
   "metadata": {},
   "source": [
    "#### Finding missing values:"
   ]
  },
  {
   "cell_type": "code",
   "execution_count": 29,
   "id": "5cf80166",
   "metadata": {},
   "outputs": [
    {
     "data": {
      "text/plain": [
       "ID                       0\n",
       "Gender                   0\n",
       "Age                      0\n",
       "Hypertension             0\n",
       "Heart_Disease            0\n",
       "Ever_Married             0\n",
       "Work_Type                0\n",
       "Residence_Type           0\n",
       "Avg_Glucose_Level        0\n",
       "BMI                   1462\n",
       "Smoking_Status       13292\n",
       "Stroke                   0\n",
       "dtype: int64"
      ]
     },
     "execution_count": 29,
     "metadata": {},
     "output_type": "execute_result"
    }
   ],
   "source": [
    "#Number of missing values\n",
    "df.isna().sum()"
   ]
  },
  {
   "cell_type": "code",
   "execution_count": 30,
   "id": "c4fb33d5",
   "metadata": {},
   "outputs": [
    {
     "data": {
      "text/plain": [
       "ID                    0.000000\n",
       "Gender                0.000000\n",
       "Age                   0.000000\n",
       "Hypertension          0.000000\n",
       "Heart_Disease         0.000000\n",
       "Ever_Married          0.000000\n",
       "Work_Type             0.000000\n",
       "Residence_Type        0.000000\n",
       "Avg_Glucose_Level     0.000000\n",
       "BMI                   3.368664\n",
       "Smoking_Status       30.626728\n",
       "Stroke                0.000000\n",
       "dtype: float64"
      ]
     },
     "execution_count": 30,
     "metadata": {},
     "output_type": "execute_result"
    }
   ],
   "source": [
    "#Percentage of missing values\n",
    "df.isna().mean()*100"
   ]
  },
  {
   "cell_type": "code",
   "execution_count": 31,
   "id": "3eb1b949",
   "metadata": {},
   "outputs": [],
   "source": [
    "df1 = df.copy()"
   ]
  },
  {
   "cell_type": "markdown",
   "id": "8cfbb73d",
   "metadata": {},
   "source": [
    "#### Fancyimput:\n",
    "Fancyimpute is a library for missing data imputation algorithms. Fancyimpute use machine learning algorithm to impute missing values. Fancyimpute uses all the column to impute the missing values. There are two ways missing data can be imputed using Fancyimpute\n",
    "\n",
    "1. KNN or K-Nearest Neighbor\n",
    "2. MICE or Multiple Imputation by Chained Equation\n",
    "\n",
    "#### K-Nearest Neighbor:\n",
    "To fill out the missing values KNN finds out the similar data points among all the features. Then it took the average of all the points to fill in the missing values.\n",
    "\n",
    "#### Multiple Imputation by Chained Equation:\n",
    "MICE uses multiple imputation instead of single imputation which results in statistical uncertainty. MICE perform multiple regression over the sample data and take averages of them"
   ]
  },
  {
   "cell_type": "code",
   "execution_count": 32,
   "id": "01f4f754",
   "metadata": {},
   "outputs": [
    {
     "data": {
      "text/html": [
       "<div>\n",
       "<style scoped>\n",
       "    .dataframe tbody tr th:only-of-type {\n",
       "        vertical-align: middle;\n",
       "    }\n",
       "\n",
       "    .dataframe tbody tr th {\n",
       "        vertical-align: top;\n",
       "    }\n",
       "\n",
       "    .dataframe thead th {\n",
       "        text-align: right;\n",
       "    }\n",
       "</style>\n",
       "<table border=\"1\" class=\"dataframe\">\n",
       "  <thead>\n",
       "    <tr style=\"text-align: right;\">\n",
       "      <th></th>\n",
       "      <th>ID</th>\n",
       "      <th>Gender</th>\n",
       "      <th>Age</th>\n",
       "      <th>Hypertension</th>\n",
       "      <th>Heart_Disease</th>\n",
       "      <th>Ever_Married</th>\n",
       "      <th>Work_Type</th>\n",
       "      <th>Residence_Type</th>\n",
       "      <th>Avg_Glucose_Level</th>\n",
       "      <th>BMI</th>\n",
       "      <th>Smoking_Status</th>\n",
       "      <th>Stroke</th>\n",
       "    </tr>\n",
       "  </thead>\n",
       "  <tbody>\n",
       "    <tr>\n",
       "      <th>0</th>\n",
       "      <td>30669</td>\n",
       "      <td>Male</td>\n",
       "      <td>3.0</td>\n",
       "      <td>0</td>\n",
       "      <td>0</td>\n",
       "      <td>No</td>\n",
       "      <td>children</td>\n",
       "      <td>Rural</td>\n",
       "      <td>95.12</td>\n",
       "      <td>18.0</td>\n",
       "      <td>NaN</td>\n",
       "      <td>0</td>\n",
       "    </tr>\n",
       "    <tr>\n",
       "      <th>1</th>\n",
       "      <td>30468</td>\n",
       "      <td>Male</td>\n",
       "      <td>58.0</td>\n",
       "      <td>1</td>\n",
       "      <td>0</td>\n",
       "      <td>Yes</td>\n",
       "      <td>Private</td>\n",
       "      <td>Urban</td>\n",
       "      <td>87.96</td>\n",
       "      <td>39.2</td>\n",
       "      <td>never smoked</td>\n",
       "      <td>0</td>\n",
       "    </tr>\n",
       "    <tr>\n",
       "      <th>2</th>\n",
       "      <td>16523</td>\n",
       "      <td>Female</td>\n",
       "      <td>8.0</td>\n",
       "      <td>0</td>\n",
       "      <td>0</td>\n",
       "      <td>No</td>\n",
       "      <td>Private</td>\n",
       "      <td>Urban</td>\n",
       "      <td>110.89</td>\n",
       "      <td>17.6</td>\n",
       "      <td>NaN</td>\n",
       "      <td>0</td>\n",
       "    </tr>\n",
       "    <tr>\n",
       "      <th>3</th>\n",
       "      <td>56543</td>\n",
       "      <td>Female</td>\n",
       "      <td>70.0</td>\n",
       "      <td>0</td>\n",
       "      <td>0</td>\n",
       "      <td>Yes</td>\n",
       "      <td>Private</td>\n",
       "      <td>Rural</td>\n",
       "      <td>69.04</td>\n",
       "      <td>35.9</td>\n",
       "      <td>formerly smoked</td>\n",
       "      <td>0</td>\n",
       "    </tr>\n",
       "    <tr>\n",
       "      <th>4</th>\n",
       "      <td>46136</td>\n",
       "      <td>Male</td>\n",
       "      <td>14.0</td>\n",
       "      <td>0</td>\n",
       "      <td>0</td>\n",
       "      <td>No</td>\n",
       "      <td>Never_worked</td>\n",
       "      <td>Rural</td>\n",
       "      <td>161.28</td>\n",
       "      <td>19.1</td>\n",
       "      <td>NaN</td>\n",
       "      <td>0</td>\n",
       "    </tr>\n",
       "  </tbody>\n",
       "</table>\n",
       "</div>"
      ],
      "text/plain": [
       "      ID  Gender   Age  Hypertension  Heart_Disease Ever_Married  \\\n",
       "0  30669    Male   3.0             0              0           No   \n",
       "1  30468    Male  58.0             1              0          Yes   \n",
       "2  16523  Female   8.0             0              0           No   \n",
       "3  56543  Female  70.0             0              0          Yes   \n",
       "4  46136    Male  14.0             0              0           No   \n",
       "\n",
       "      Work_Type Residence_Type  Avg_Glucose_Level   BMI   Smoking_Status  \\\n",
       "0      children          Rural              95.12  18.0              NaN   \n",
       "1       Private          Urban              87.96  39.2     never smoked   \n",
       "2       Private          Urban             110.89  17.6              NaN   \n",
       "3       Private          Rural              69.04  35.9  formerly smoked   \n",
       "4  Never_worked          Rural             161.28  19.1              NaN   \n",
       "\n",
       "   Stroke  \n",
       "0       0  \n",
       "1       0  \n",
       "2       0  \n",
       "3       0  \n",
       "4       0  "
      ]
     },
     "execution_count": 32,
     "metadata": {},
     "output_type": "execute_result"
    }
   ],
   "source": [
    "df1.head()"
   ]
  },
  {
   "cell_type": "code",
   "execution_count": 33,
   "id": "db0d5e26",
   "metadata": {},
   "outputs": [
    {
     "data": {
      "text/html": [
       "<div>\n",
       "<style scoped>\n",
       "    .dataframe tbody tr th:only-of-type {\n",
       "        vertical-align: middle;\n",
       "    }\n",
       "\n",
       "    .dataframe tbody tr th {\n",
       "        vertical-align: top;\n",
       "    }\n",
       "\n",
       "    .dataframe thead th {\n",
       "        text-align: right;\n",
       "    }\n",
       "</style>\n",
       "<table border=\"1\" class=\"dataframe\">\n",
       "  <thead>\n",
       "    <tr style=\"text-align: right;\">\n",
       "      <th></th>\n",
       "      <th>Gender</th>\n",
       "      <th>Age</th>\n",
       "      <th>Hypertension</th>\n",
       "      <th>Heart_Disease</th>\n",
       "      <th>Ever_Married</th>\n",
       "      <th>Work_Type</th>\n",
       "      <th>Residence_Type</th>\n",
       "      <th>Avg_Glucose_Level</th>\n",
       "      <th>BMI</th>\n",
       "      <th>Smoking_Status</th>\n",
       "      <th>Stroke</th>\n",
       "    </tr>\n",
       "  </thead>\n",
       "  <tbody>\n",
       "    <tr>\n",
       "      <th>0</th>\n",
       "      <td>Male</td>\n",
       "      <td>3.0</td>\n",
       "      <td>0</td>\n",
       "      <td>0</td>\n",
       "      <td>No</td>\n",
       "      <td>children</td>\n",
       "      <td>Rural</td>\n",
       "      <td>95.12</td>\n",
       "      <td>18.0</td>\n",
       "      <td>NaN</td>\n",
       "      <td>0</td>\n",
       "    </tr>\n",
       "    <tr>\n",
       "      <th>1</th>\n",
       "      <td>Male</td>\n",
       "      <td>58.0</td>\n",
       "      <td>1</td>\n",
       "      <td>0</td>\n",
       "      <td>Yes</td>\n",
       "      <td>Private</td>\n",
       "      <td>Urban</td>\n",
       "      <td>87.96</td>\n",
       "      <td>39.2</td>\n",
       "      <td>never smoked</td>\n",
       "      <td>0</td>\n",
       "    </tr>\n",
       "    <tr>\n",
       "      <th>2</th>\n",
       "      <td>Female</td>\n",
       "      <td>8.0</td>\n",
       "      <td>0</td>\n",
       "      <td>0</td>\n",
       "      <td>No</td>\n",
       "      <td>Private</td>\n",
       "      <td>Urban</td>\n",
       "      <td>110.89</td>\n",
       "      <td>17.6</td>\n",
       "      <td>NaN</td>\n",
       "      <td>0</td>\n",
       "    </tr>\n",
       "    <tr>\n",
       "      <th>3</th>\n",
       "      <td>Female</td>\n",
       "      <td>70.0</td>\n",
       "      <td>0</td>\n",
       "      <td>0</td>\n",
       "      <td>Yes</td>\n",
       "      <td>Private</td>\n",
       "      <td>Rural</td>\n",
       "      <td>69.04</td>\n",
       "      <td>35.9</td>\n",
       "      <td>formerly smoked</td>\n",
       "      <td>0</td>\n",
       "    </tr>\n",
       "    <tr>\n",
       "      <th>4</th>\n",
       "      <td>Male</td>\n",
       "      <td>14.0</td>\n",
       "      <td>0</td>\n",
       "      <td>0</td>\n",
       "      <td>No</td>\n",
       "      <td>Never_worked</td>\n",
       "      <td>Rural</td>\n",
       "      <td>161.28</td>\n",
       "      <td>19.1</td>\n",
       "      <td>NaN</td>\n",
       "      <td>0</td>\n",
       "    </tr>\n",
       "  </tbody>\n",
       "</table>\n",
       "</div>"
      ],
      "text/plain": [
       "   Gender   Age  Hypertension  Heart_Disease Ever_Married     Work_Type  \\\n",
       "0    Male   3.0             0              0           No      children   \n",
       "1    Male  58.0             1              0          Yes       Private   \n",
       "2  Female   8.0             0              0           No       Private   \n",
       "3  Female  70.0             0              0          Yes       Private   \n",
       "4    Male  14.0             0              0           No  Never_worked   \n",
       "\n",
       "  Residence_Type  Avg_Glucose_Level   BMI   Smoking_Status  Stroke  \n",
       "0          Rural              95.12  18.0              NaN       0  \n",
       "1          Urban              87.96  39.2     never smoked       0  \n",
       "2          Urban             110.89  17.6              NaN       0  \n",
       "3          Rural              69.04  35.9  formerly smoked       0  \n",
       "4          Rural             161.28  19.1              NaN       0  "
      ]
     },
     "execution_count": 33,
     "metadata": {},
     "output_type": "execute_result"
    }
   ],
   "source": [
    "#we will drop unnecessary and unique columns and encode rest of data to impute\n",
    "df1.drop(columns=['ID'],inplace = True, axis = 1)\n",
    "df1.head()"
   ]
  },
  {
   "cell_type": "code",
   "execution_count": 34,
   "id": "f22eabe3",
   "metadata": {},
   "outputs": [
    {
     "data": {
      "text/html": [
       "<div>\n",
       "<style scoped>\n",
       "    .dataframe tbody tr th:only-of-type {\n",
       "        vertical-align: middle;\n",
       "    }\n",
       "\n",
       "    .dataframe tbody tr th {\n",
       "        vertical-align: top;\n",
       "    }\n",
       "\n",
       "    .dataframe thead th {\n",
       "        text-align: right;\n",
       "    }\n",
       "</style>\n",
       "<table border=\"1\" class=\"dataframe\">\n",
       "  <thead>\n",
       "    <tr style=\"text-align: right;\">\n",
       "      <th></th>\n",
       "      <th>Age</th>\n",
       "      <th>Hypertension</th>\n",
       "      <th>Heart_Disease</th>\n",
       "      <th>Avg_Glucose_Level</th>\n",
       "      <th>BMI</th>\n",
       "      <th>Smoking_Status</th>\n",
       "      <th>Stroke</th>\n",
       "      <th>Gender_Male</th>\n",
       "      <th>Gender_Other</th>\n",
       "      <th>Ever_Married_Yes</th>\n",
       "      <th>Work_Type_Never_worked</th>\n",
       "      <th>Work_Type_Private</th>\n",
       "      <th>Work_Type_Self-employed</th>\n",
       "      <th>Work_Type_children</th>\n",
       "      <th>Residence_Type_Urban</th>\n",
       "    </tr>\n",
       "  </thead>\n",
       "  <tbody>\n",
       "    <tr>\n",
       "      <th>0</th>\n",
       "      <td>3.0</td>\n",
       "      <td>0</td>\n",
       "      <td>0</td>\n",
       "      <td>95.12</td>\n",
       "      <td>18.0</td>\n",
       "      <td>NaN</td>\n",
       "      <td>0</td>\n",
       "      <td>1</td>\n",
       "      <td>0</td>\n",
       "      <td>0</td>\n",
       "      <td>0</td>\n",
       "      <td>0</td>\n",
       "      <td>0</td>\n",
       "      <td>1</td>\n",
       "      <td>0</td>\n",
       "    </tr>\n",
       "    <tr>\n",
       "      <th>1</th>\n",
       "      <td>58.0</td>\n",
       "      <td>1</td>\n",
       "      <td>0</td>\n",
       "      <td>87.96</td>\n",
       "      <td>39.2</td>\n",
       "      <td>never smoked</td>\n",
       "      <td>0</td>\n",
       "      <td>1</td>\n",
       "      <td>0</td>\n",
       "      <td>1</td>\n",
       "      <td>0</td>\n",
       "      <td>1</td>\n",
       "      <td>0</td>\n",
       "      <td>0</td>\n",
       "      <td>1</td>\n",
       "    </tr>\n",
       "    <tr>\n",
       "      <th>2</th>\n",
       "      <td>8.0</td>\n",
       "      <td>0</td>\n",
       "      <td>0</td>\n",
       "      <td>110.89</td>\n",
       "      <td>17.6</td>\n",
       "      <td>NaN</td>\n",
       "      <td>0</td>\n",
       "      <td>0</td>\n",
       "      <td>0</td>\n",
       "      <td>0</td>\n",
       "      <td>0</td>\n",
       "      <td>1</td>\n",
       "      <td>0</td>\n",
       "      <td>0</td>\n",
       "      <td>1</td>\n",
       "    </tr>\n",
       "    <tr>\n",
       "      <th>3</th>\n",
       "      <td>70.0</td>\n",
       "      <td>0</td>\n",
       "      <td>0</td>\n",
       "      <td>69.04</td>\n",
       "      <td>35.9</td>\n",
       "      <td>formerly smoked</td>\n",
       "      <td>0</td>\n",
       "      <td>0</td>\n",
       "      <td>0</td>\n",
       "      <td>1</td>\n",
       "      <td>0</td>\n",
       "      <td>1</td>\n",
       "      <td>0</td>\n",
       "      <td>0</td>\n",
       "      <td>0</td>\n",
       "    </tr>\n",
       "    <tr>\n",
       "      <th>4</th>\n",
       "      <td>14.0</td>\n",
       "      <td>0</td>\n",
       "      <td>0</td>\n",
       "      <td>161.28</td>\n",
       "      <td>19.1</td>\n",
       "      <td>NaN</td>\n",
       "      <td>0</td>\n",
       "      <td>1</td>\n",
       "      <td>0</td>\n",
       "      <td>0</td>\n",
       "      <td>1</td>\n",
       "      <td>0</td>\n",
       "      <td>0</td>\n",
       "      <td>0</td>\n",
       "      <td>0</td>\n",
       "    </tr>\n",
       "  </tbody>\n",
       "</table>\n",
       "</div>"
      ],
      "text/plain": [
       "    Age  Hypertension  Heart_Disease  Avg_Glucose_Level   BMI  \\\n",
       "0   3.0             0              0              95.12  18.0   \n",
       "1  58.0             1              0              87.96  39.2   \n",
       "2   8.0             0              0             110.89  17.6   \n",
       "3  70.0             0              0              69.04  35.9   \n",
       "4  14.0             0              0             161.28  19.1   \n",
       "\n",
       "    Smoking_Status  Stroke  Gender_Male  Gender_Other  Ever_Married_Yes  \\\n",
       "0              NaN       0            1             0                 0   \n",
       "1     never smoked       0            1             0                 1   \n",
       "2              NaN       0            0             0                 0   \n",
       "3  formerly smoked       0            0             0                 1   \n",
       "4              NaN       0            1             0                 0   \n",
       "\n",
       "   Work_Type_Never_worked  Work_Type_Private  Work_Type_Self-employed  \\\n",
       "0                       0                  0                        0   \n",
       "1                       0                  1                        0   \n",
       "2                       0                  1                        0   \n",
       "3                       0                  1                        0   \n",
       "4                       1                  0                        0   \n",
       "\n",
       "   Work_Type_children  Residence_Type_Urban  \n",
       "0                   1                     0  \n",
       "1                   0                     1  \n",
       "2                   0                     1  \n",
       "3                   0                     0  \n",
       "4                   0                     0  "
      ]
     },
     "execution_count": 34,
     "metadata": {},
     "output_type": "execute_result"
    }
   ],
   "source": [
    "df1 = pd.get_dummies(df1, columns = ['Gender','Ever_Married','Work_Type','Residence_Type'],drop_first = True)\n",
    "df1.head(5)"
   ]
  },
  {
   "cell_type": "code",
   "execution_count": 35,
   "id": "9e098179",
   "metadata": {},
   "outputs": [],
   "source": [
    "bins = [0,27,54,82]\n",
    "labels=[0,1,2]\n",
    "df1['Age_new'] = pd.cut(df1['Age'], bins=bins, labels=labels, include_lowest=True)"
   ]
  },
  {
   "cell_type": "code",
   "execution_count": 36,
   "id": "e000aa86",
   "metadata": {},
   "outputs": [
    {
     "data": {
      "text/html": [
       "<div>\n",
       "<style scoped>\n",
       "    .dataframe tbody tr th:only-of-type {\n",
       "        vertical-align: middle;\n",
       "    }\n",
       "\n",
       "    .dataframe tbody tr th {\n",
       "        vertical-align: top;\n",
       "    }\n",
       "\n",
       "    .dataframe thead th {\n",
       "        text-align: right;\n",
       "    }\n",
       "</style>\n",
       "<table border=\"1\" class=\"dataframe\">\n",
       "  <thead>\n",
       "    <tr style=\"text-align: right;\">\n",
       "      <th></th>\n",
       "      <th>Age</th>\n",
       "      <th>Hypertension</th>\n",
       "      <th>Heart_Disease</th>\n",
       "      <th>Avg_Glucose_Level</th>\n",
       "      <th>BMI</th>\n",
       "      <th>Smoking_Status</th>\n",
       "      <th>Stroke</th>\n",
       "      <th>Gender_Male</th>\n",
       "      <th>Gender_Other</th>\n",
       "      <th>Ever_Married_Yes</th>\n",
       "      <th>Work_Type_Never_worked</th>\n",
       "      <th>Work_Type_Private</th>\n",
       "      <th>Work_Type_Self-employed</th>\n",
       "      <th>Work_Type_children</th>\n",
       "      <th>Residence_Type_Urban</th>\n",
       "      <th>Age_new</th>\n",
       "    </tr>\n",
       "  </thead>\n",
       "  <tbody>\n",
       "    <tr>\n",
       "      <th>0</th>\n",
       "      <td>3.0</td>\n",
       "      <td>0</td>\n",
       "      <td>0</td>\n",
       "      <td>95.12</td>\n",
       "      <td>18.0</td>\n",
       "      <td>NaN</td>\n",
       "      <td>0</td>\n",
       "      <td>1</td>\n",
       "      <td>0</td>\n",
       "      <td>0</td>\n",
       "      <td>0</td>\n",
       "      <td>0</td>\n",
       "      <td>0</td>\n",
       "      <td>1</td>\n",
       "      <td>0</td>\n",
       "      <td>0</td>\n",
       "    </tr>\n",
       "    <tr>\n",
       "      <th>1</th>\n",
       "      <td>58.0</td>\n",
       "      <td>1</td>\n",
       "      <td>0</td>\n",
       "      <td>87.96</td>\n",
       "      <td>39.2</td>\n",
       "      <td>never smoked</td>\n",
       "      <td>0</td>\n",
       "      <td>1</td>\n",
       "      <td>0</td>\n",
       "      <td>1</td>\n",
       "      <td>0</td>\n",
       "      <td>1</td>\n",
       "      <td>0</td>\n",
       "      <td>0</td>\n",
       "      <td>1</td>\n",
       "      <td>2</td>\n",
       "    </tr>\n",
       "    <tr>\n",
       "      <th>2</th>\n",
       "      <td>8.0</td>\n",
       "      <td>0</td>\n",
       "      <td>0</td>\n",
       "      <td>110.89</td>\n",
       "      <td>17.6</td>\n",
       "      <td>NaN</td>\n",
       "      <td>0</td>\n",
       "      <td>0</td>\n",
       "      <td>0</td>\n",
       "      <td>0</td>\n",
       "      <td>0</td>\n",
       "      <td>1</td>\n",
       "      <td>0</td>\n",
       "      <td>0</td>\n",
       "      <td>1</td>\n",
       "      <td>0</td>\n",
       "    </tr>\n",
       "    <tr>\n",
       "      <th>3</th>\n",
       "      <td>70.0</td>\n",
       "      <td>0</td>\n",
       "      <td>0</td>\n",
       "      <td>69.04</td>\n",
       "      <td>35.9</td>\n",
       "      <td>formerly smoked</td>\n",
       "      <td>0</td>\n",
       "      <td>0</td>\n",
       "      <td>0</td>\n",
       "      <td>1</td>\n",
       "      <td>0</td>\n",
       "      <td>1</td>\n",
       "      <td>0</td>\n",
       "      <td>0</td>\n",
       "      <td>0</td>\n",
       "      <td>2</td>\n",
       "    </tr>\n",
       "    <tr>\n",
       "      <th>4</th>\n",
       "      <td>14.0</td>\n",
       "      <td>0</td>\n",
       "      <td>0</td>\n",
       "      <td>161.28</td>\n",
       "      <td>19.1</td>\n",
       "      <td>NaN</td>\n",
       "      <td>0</td>\n",
       "      <td>1</td>\n",
       "      <td>0</td>\n",
       "      <td>0</td>\n",
       "      <td>1</td>\n",
       "      <td>0</td>\n",
       "      <td>0</td>\n",
       "      <td>0</td>\n",
       "      <td>0</td>\n",
       "      <td>0</td>\n",
       "    </tr>\n",
       "  </tbody>\n",
       "</table>\n",
       "</div>"
      ],
      "text/plain": [
       "    Age  Hypertension  Heart_Disease  Avg_Glucose_Level   BMI  \\\n",
       "0   3.0             0              0              95.12  18.0   \n",
       "1  58.0             1              0              87.96  39.2   \n",
       "2   8.0             0              0             110.89  17.6   \n",
       "3  70.0             0              0              69.04  35.9   \n",
       "4  14.0             0              0             161.28  19.1   \n",
       "\n",
       "    Smoking_Status  Stroke  Gender_Male  Gender_Other  Ever_Married_Yes  \\\n",
       "0              NaN       0            1             0                 0   \n",
       "1     never smoked       0            1             0                 1   \n",
       "2              NaN       0            0             0                 0   \n",
       "3  formerly smoked       0            0             0                 1   \n",
       "4              NaN       0            1             0                 0   \n",
       "\n",
       "   Work_Type_Never_worked  Work_Type_Private  Work_Type_Self-employed  \\\n",
       "0                       0                  0                        0   \n",
       "1                       0                  1                        0   \n",
       "2                       0                  1                        0   \n",
       "3                       0                  1                        0   \n",
       "4                       1                  0                        0   \n",
       "\n",
       "   Work_Type_children  Residence_Type_Urban Age_new  \n",
       "0                   1                     0       0  \n",
       "1                   0                     1       2  \n",
       "2                   0                     1       0  \n",
       "3                   0                     0       2  \n",
       "4                   0                     0       0  "
      ]
     },
     "execution_count": 36,
     "metadata": {},
     "output_type": "execute_result"
    }
   ],
   "source": [
    "df1.head()"
   ]
  },
  {
   "cell_type": "code",
   "execution_count": 37,
   "id": "a79ef154",
   "metadata": {},
   "outputs": [],
   "source": [
    "df1.drop(columns=['Age'], inplace = True, axis = 1)"
   ]
  },
  {
   "cell_type": "code",
   "execution_count": 38,
   "id": "af0a83bc",
   "metadata": {},
   "outputs": [
    {
     "data": {
      "text/html": [
       "<div>\n",
       "<style scoped>\n",
       "    .dataframe tbody tr th:only-of-type {\n",
       "        vertical-align: middle;\n",
       "    }\n",
       "\n",
       "    .dataframe tbody tr th {\n",
       "        vertical-align: top;\n",
       "    }\n",
       "\n",
       "    .dataframe thead th {\n",
       "        text-align: right;\n",
       "    }\n",
       "</style>\n",
       "<table border=\"1\" class=\"dataframe\">\n",
       "  <thead>\n",
       "    <tr style=\"text-align: right;\">\n",
       "      <th></th>\n",
       "      <th>Hypertension</th>\n",
       "      <th>Heart_Disease</th>\n",
       "      <th>Avg_Glucose_Level</th>\n",
       "      <th>BMI</th>\n",
       "      <th>Smoking_Status</th>\n",
       "      <th>Stroke</th>\n",
       "      <th>Gender_Male</th>\n",
       "      <th>Gender_Other</th>\n",
       "      <th>Ever_Married_Yes</th>\n",
       "      <th>Work_Type_Never_worked</th>\n",
       "      <th>Work_Type_Private</th>\n",
       "      <th>Work_Type_Self-employed</th>\n",
       "      <th>Work_Type_children</th>\n",
       "      <th>Residence_Type_Urban</th>\n",
       "      <th>Age_new</th>\n",
       "    </tr>\n",
       "  </thead>\n",
       "  <tbody>\n",
       "    <tr>\n",
       "      <th>0</th>\n",
       "      <td>0</td>\n",
       "      <td>0</td>\n",
       "      <td>95.12</td>\n",
       "      <td>18.0</td>\n",
       "      <td>NaN</td>\n",
       "      <td>0</td>\n",
       "      <td>1</td>\n",
       "      <td>0</td>\n",
       "      <td>0</td>\n",
       "      <td>0</td>\n",
       "      <td>0</td>\n",
       "      <td>0</td>\n",
       "      <td>1</td>\n",
       "      <td>0</td>\n",
       "      <td>0</td>\n",
       "    </tr>\n",
       "    <tr>\n",
       "      <th>1</th>\n",
       "      <td>1</td>\n",
       "      <td>0</td>\n",
       "      <td>87.96</td>\n",
       "      <td>39.2</td>\n",
       "      <td>never smoked</td>\n",
       "      <td>0</td>\n",
       "      <td>1</td>\n",
       "      <td>0</td>\n",
       "      <td>1</td>\n",
       "      <td>0</td>\n",
       "      <td>1</td>\n",
       "      <td>0</td>\n",
       "      <td>0</td>\n",
       "      <td>1</td>\n",
       "      <td>2</td>\n",
       "    </tr>\n",
       "    <tr>\n",
       "      <th>2</th>\n",
       "      <td>0</td>\n",
       "      <td>0</td>\n",
       "      <td>110.89</td>\n",
       "      <td>17.6</td>\n",
       "      <td>NaN</td>\n",
       "      <td>0</td>\n",
       "      <td>0</td>\n",
       "      <td>0</td>\n",
       "      <td>0</td>\n",
       "      <td>0</td>\n",
       "      <td>1</td>\n",
       "      <td>0</td>\n",
       "      <td>0</td>\n",
       "      <td>1</td>\n",
       "      <td>0</td>\n",
       "    </tr>\n",
       "    <tr>\n",
       "      <th>3</th>\n",
       "      <td>0</td>\n",
       "      <td>0</td>\n",
       "      <td>69.04</td>\n",
       "      <td>35.9</td>\n",
       "      <td>formerly smoked</td>\n",
       "      <td>0</td>\n",
       "      <td>0</td>\n",
       "      <td>0</td>\n",
       "      <td>1</td>\n",
       "      <td>0</td>\n",
       "      <td>1</td>\n",
       "      <td>0</td>\n",
       "      <td>0</td>\n",
       "      <td>0</td>\n",
       "      <td>2</td>\n",
       "    </tr>\n",
       "    <tr>\n",
       "      <th>4</th>\n",
       "      <td>0</td>\n",
       "      <td>0</td>\n",
       "      <td>161.28</td>\n",
       "      <td>19.1</td>\n",
       "      <td>NaN</td>\n",
       "      <td>0</td>\n",
       "      <td>1</td>\n",
       "      <td>0</td>\n",
       "      <td>0</td>\n",
       "      <td>1</td>\n",
       "      <td>0</td>\n",
       "      <td>0</td>\n",
       "      <td>0</td>\n",
       "      <td>0</td>\n",
       "      <td>0</td>\n",
       "    </tr>\n",
       "  </tbody>\n",
       "</table>\n",
       "</div>"
      ],
      "text/plain": [
       "   Hypertension  Heart_Disease  Avg_Glucose_Level   BMI   Smoking_Status  \\\n",
       "0             0              0              95.12  18.0              NaN   \n",
       "1             1              0              87.96  39.2     never smoked   \n",
       "2             0              0             110.89  17.6              NaN   \n",
       "3             0              0              69.04  35.9  formerly smoked   \n",
       "4             0              0             161.28  19.1              NaN   \n",
       "\n",
       "   Stroke  Gender_Male  Gender_Other  Ever_Married_Yes  \\\n",
       "0       0            1             0                 0   \n",
       "1       0            1             0                 1   \n",
       "2       0            0             0                 0   \n",
       "3       0            0             0                 1   \n",
       "4       0            1             0                 0   \n",
       "\n",
       "   Work_Type_Never_worked  Work_Type_Private  Work_Type_Self-employed  \\\n",
       "0                       0                  0                        0   \n",
       "1                       0                  1                        0   \n",
       "2                       0                  1                        0   \n",
       "3                       0                  1                        0   \n",
       "4                       1                  0                        0   \n",
       "\n",
       "   Work_Type_children  Residence_Type_Urban Age_new  \n",
       "0                   1                     0       0  \n",
       "1                   0                     1       2  \n",
       "2                   0                     1       0  \n",
       "3                   0                     0       2  \n",
       "4                   0                     0       0  "
      ]
     },
     "execution_count": 38,
     "metadata": {},
     "output_type": "execute_result"
    }
   ],
   "source": [
    "df1.head()"
   ]
  },
  {
   "cell_type": "code",
   "execution_count": 40,
   "id": "e3ecd10e",
   "metadata": {},
   "outputs": [
    {
     "data": {
      "text/plain": [
       "Index(['Hypertension', 'Heart_Disease', 'Avg_Glucose_Level', 'BMI',\n",
       "       'Smoking_Status', 'Stroke', 'Gender_Male', 'Gender_Other',\n",
       "       'Ever_Married_Yes', 'Work_Type_Never_worked', 'Work_Type_Private',\n",
       "       'Work_Type_Self-employed', 'Work_Type_children', 'Residence_Type_Urban',\n",
       "       'Age_new'],\n",
       "      dtype='object')"
      ]
     },
     "execution_count": 40,
     "metadata": {},
     "output_type": "execute_result"
    }
   ],
   "source": [
    "df1.columns"
   ]
  },
  {
   "cell_type": "code",
   "execution_count": 41,
   "id": "17fb50a9",
   "metadata": {},
   "outputs": [],
   "source": [
    "#Rearranging the columns so the target variable is at the last\n",
    "column_names = ['Gender_Male', 'Gender_Other','Age_new','Hypertension', 'Heart_Disease','Ever_Married_Yes', 'Work_Type_Never_worked', 'Work_Type_Private',\n",
    "       'Work_Type_Self-employed', 'Work_Type_children', 'Residence_Type_Urban','Avg_Glucose_Level', 'BMI',\n",
    "       'Smoking_Status', 'Stroke']\n",
    "\n",
    "df1 = df1.reindex(columns=column_names)"
   ]
  },
  {
   "cell_type": "code",
   "execution_count": 42,
   "id": "6245eaad",
   "metadata": {},
   "outputs": [
    {
     "data": {
      "text/html": [
       "<div>\n",
       "<style scoped>\n",
       "    .dataframe tbody tr th:only-of-type {\n",
       "        vertical-align: middle;\n",
       "    }\n",
       "\n",
       "    .dataframe tbody tr th {\n",
       "        vertical-align: top;\n",
       "    }\n",
       "\n",
       "    .dataframe thead th {\n",
       "        text-align: right;\n",
       "    }\n",
       "</style>\n",
       "<table border=\"1\" class=\"dataframe\">\n",
       "  <thead>\n",
       "    <tr style=\"text-align: right;\">\n",
       "      <th></th>\n",
       "      <th>Gender_Male</th>\n",
       "      <th>Gender_Other</th>\n",
       "      <th>Age_new</th>\n",
       "      <th>Hypertension</th>\n",
       "      <th>Heart_Disease</th>\n",
       "      <th>Ever_Married_Yes</th>\n",
       "      <th>Work_Type_Never_worked</th>\n",
       "      <th>Work_Type_Private</th>\n",
       "      <th>Work_Type_Self-employed</th>\n",
       "      <th>Work_Type_children</th>\n",
       "      <th>Residence_Type_Urban</th>\n",
       "      <th>Avg_Glucose_Level</th>\n",
       "      <th>BMI</th>\n",
       "      <th>Smoking_Status</th>\n",
       "      <th>Stroke</th>\n",
       "    </tr>\n",
       "  </thead>\n",
       "  <tbody>\n",
       "    <tr>\n",
       "      <th>0</th>\n",
       "      <td>1</td>\n",
       "      <td>0</td>\n",
       "      <td>0</td>\n",
       "      <td>0</td>\n",
       "      <td>0</td>\n",
       "      <td>0</td>\n",
       "      <td>0</td>\n",
       "      <td>0</td>\n",
       "      <td>0</td>\n",
       "      <td>1</td>\n",
       "      <td>0</td>\n",
       "      <td>95.12</td>\n",
       "      <td>18.0</td>\n",
       "      <td>NaN</td>\n",
       "      <td>0</td>\n",
       "    </tr>\n",
       "    <tr>\n",
       "      <th>1</th>\n",
       "      <td>1</td>\n",
       "      <td>0</td>\n",
       "      <td>2</td>\n",
       "      <td>1</td>\n",
       "      <td>0</td>\n",
       "      <td>1</td>\n",
       "      <td>0</td>\n",
       "      <td>1</td>\n",
       "      <td>0</td>\n",
       "      <td>0</td>\n",
       "      <td>1</td>\n",
       "      <td>87.96</td>\n",
       "      <td>39.2</td>\n",
       "      <td>never smoked</td>\n",
       "      <td>0</td>\n",
       "    </tr>\n",
       "    <tr>\n",
       "      <th>2</th>\n",
       "      <td>0</td>\n",
       "      <td>0</td>\n",
       "      <td>0</td>\n",
       "      <td>0</td>\n",
       "      <td>0</td>\n",
       "      <td>0</td>\n",
       "      <td>0</td>\n",
       "      <td>1</td>\n",
       "      <td>0</td>\n",
       "      <td>0</td>\n",
       "      <td>1</td>\n",
       "      <td>110.89</td>\n",
       "      <td>17.6</td>\n",
       "      <td>NaN</td>\n",
       "      <td>0</td>\n",
       "    </tr>\n",
       "    <tr>\n",
       "      <th>3</th>\n",
       "      <td>0</td>\n",
       "      <td>0</td>\n",
       "      <td>2</td>\n",
       "      <td>0</td>\n",
       "      <td>0</td>\n",
       "      <td>1</td>\n",
       "      <td>0</td>\n",
       "      <td>1</td>\n",
       "      <td>0</td>\n",
       "      <td>0</td>\n",
       "      <td>0</td>\n",
       "      <td>69.04</td>\n",
       "      <td>35.9</td>\n",
       "      <td>formerly smoked</td>\n",
       "      <td>0</td>\n",
       "    </tr>\n",
       "    <tr>\n",
       "      <th>4</th>\n",
       "      <td>1</td>\n",
       "      <td>0</td>\n",
       "      <td>0</td>\n",
       "      <td>0</td>\n",
       "      <td>0</td>\n",
       "      <td>0</td>\n",
       "      <td>1</td>\n",
       "      <td>0</td>\n",
       "      <td>0</td>\n",
       "      <td>0</td>\n",
       "      <td>0</td>\n",
       "      <td>161.28</td>\n",
       "      <td>19.1</td>\n",
       "      <td>NaN</td>\n",
       "      <td>0</td>\n",
       "    </tr>\n",
       "  </tbody>\n",
       "</table>\n",
       "</div>"
      ],
      "text/plain": [
       "   Gender_Male  Gender_Other Age_new  Hypertension  Heart_Disease  \\\n",
       "0            1             0       0             0              0   \n",
       "1            1             0       2             1              0   \n",
       "2            0             0       0             0              0   \n",
       "3            0             0       2             0              0   \n",
       "4            1             0       0             0              0   \n",
       "\n",
       "   Ever_Married_Yes  Work_Type_Never_worked  Work_Type_Private  \\\n",
       "0                 0                       0                  0   \n",
       "1                 1                       0                  1   \n",
       "2                 0                       0                  1   \n",
       "3                 1                       0                  1   \n",
       "4                 0                       1                  0   \n",
       "\n",
       "   Work_Type_Self-employed  Work_Type_children  Residence_Type_Urban  \\\n",
       "0                        0                   1                     0   \n",
       "1                        0                   0                     1   \n",
       "2                        0                   0                     1   \n",
       "3                        0                   0                     0   \n",
       "4                        0                   0                     0   \n",
       "\n",
       "   Avg_Glucose_Level   BMI   Smoking_Status  Stroke  \n",
       "0              95.12  18.0              NaN       0  \n",
       "1              87.96  39.2     never smoked       0  \n",
       "2             110.89  17.6              NaN       0  \n",
       "3              69.04  35.9  formerly smoked       0  \n",
       "4             161.28  19.1              NaN       0  "
      ]
     },
     "execution_count": 42,
     "metadata": {},
     "output_type": "execute_result"
    }
   ],
   "source": [
    "df1.head()"
   ]
  },
  {
   "cell_type": "code",
   "execution_count": 43,
   "id": "6c2c3b50",
   "metadata": {},
   "outputs": [
    {
     "data": {
      "text/plain": [
       "never smoked       0.533181\n",
       "formerly smoked    0.248871\n",
       "smokes             0.217949\n",
       "Name: Smoking_Status, dtype: float64"
      ]
     },
     "execution_count": 43,
     "metadata": {},
     "output_type": "execute_result"
    }
   ],
   "source": [
    "df['Smoking_Status'].value_counts(normalize=True)"
   ]
  },
  {
   "cell_type": "code",
   "execution_count": 44,
   "id": "cbe50548",
   "metadata": {},
   "outputs": [],
   "source": [
    "df1['Smoking_Status'].replace({'never smoked':0},inplace=True)\n",
    "df1['Smoking_Status'].replace({'formerly smoked':1},inplace=True)\n",
    "df1['Smoking_Status'].replace({'smokes':2},inplace=True)"
   ]
  },
  {
   "cell_type": "code",
   "execution_count": 45,
   "id": "66e26ec5",
   "metadata": {},
   "outputs": [
    {
     "data": {
      "text/html": [
       "<div>\n",
       "<style scoped>\n",
       "    .dataframe tbody tr th:only-of-type {\n",
       "        vertical-align: middle;\n",
       "    }\n",
       "\n",
       "    .dataframe tbody tr th {\n",
       "        vertical-align: top;\n",
       "    }\n",
       "\n",
       "    .dataframe thead th {\n",
       "        text-align: right;\n",
       "    }\n",
       "</style>\n",
       "<table border=\"1\" class=\"dataframe\">\n",
       "  <thead>\n",
       "    <tr style=\"text-align: right;\">\n",
       "      <th></th>\n",
       "      <th>Gender_Male</th>\n",
       "      <th>Gender_Other</th>\n",
       "      <th>Age_new</th>\n",
       "      <th>Hypertension</th>\n",
       "      <th>Heart_Disease</th>\n",
       "      <th>Ever_Married_Yes</th>\n",
       "      <th>Work_Type_Never_worked</th>\n",
       "      <th>Work_Type_Private</th>\n",
       "      <th>Work_Type_Self-employed</th>\n",
       "      <th>Work_Type_children</th>\n",
       "      <th>Residence_Type_Urban</th>\n",
       "      <th>Avg_Glucose_Level</th>\n",
       "      <th>BMI</th>\n",
       "      <th>Smoking_Status</th>\n",
       "      <th>Stroke</th>\n",
       "    </tr>\n",
       "  </thead>\n",
       "  <tbody>\n",
       "    <tr>\n",
       "      <th>0</th>\n",
       "      <td>1</td>\n",
       "      <td>0</td>\n",
       "      <td>0</td>\n",
       "      <td>0</td>\n",
       "      <td>0</td>\n",
       "      <td>0</td>\n",
       "      <td>0</td>\n",
       "      <td>0</td>\n",
       "      <td>0</td>\n",
       "      <td>1</td>\n",
       "      <td>0</td>\n",
       "      <td>95.12</td>\n",
       "      <td>18.0</td>\n",
       "      <td>NaN</td>\n",
       "      <td>0</td>\n",
       "    </tr>\n",
       "    <tr>\n",
       "      <th>1</th>\n",
       "      <td>1</td>\n",
       "      <td>0</td>\n",
       "      <td>2</td>\n",
       "      <td>1</td>\n",
       "      <td>0</td>\n",
       "      <td>1</td>\n",
       "      <td>0</td>\n",
       "      <td>1</td>\n",
       "      <td>0</td>\n",
       "      <td>0</td>\n",
       "      <td>1</td>\n",
       "      <td>87.96</td>\n",
       "      <td>39.2</td>\n",
       "      <td>0.0</td>\n",
       "      <td>0</td>\n",
       "    </tr>\n",
       "    <tr>\n",
       "      <th>2</th>\n",
       "      <td>0</td>\n",
       "      <td>0</td>\n",
       "      <td>0</td>\n",
       "      <td>0</td>\n",
       "      <td>0</td>\n",
       "      <td>0</td>\n",
       "      <td>0</td>\n",
       "      <td>1</td>\n",
       "      <td>0</td>\n",
       "      <td>0</td>\n",
       "      <td>1</td>\n",
       "      <td>110.89</td>\n",
       "      <td>17.6</td>\n",
       "      <td>NaN</td>\n",
       "      <td>0</td>\n",
       "    </tr>\n",
       "    <tr>\n",
       "      <th>3</th>\n",
       "      <td>0</td>\n",
       "      <td>0</td>\n",
       "      <td>2</td>\n",
       "      <td>0</td>\n",
       "      <td>0</td>\n",
       "      <td>1</td>\n",
       "      <td>0</td>\n",
       "      <td>1</td>\n",
       "      <td>0</td>\n",
       "      <td>0</td>\n",
       "      <td>0</td>\n",
       "      <td>69.04</td>\n",
       "      <td>35.9</td>\n",
       "      <td>1.0</td>\n",
       "      <td>0</td>\n",
       "    </tr>\n",
       "    <tr>\n",
       "      <th>4</th>\n",
       "      <td>1</td>\n",
       "      <td>0</td>\n",
       "      <td>0</td>\n",
       "      <td>0</td>\n",
       "      <td>0</td>\n",
       "      <td>0</td>\n",
       "      <td>1</td>\n",
       "      <td>0</td>\n",
       "      <td>0</td>\n",
       "      <td>0</td>\n",
       "      <td>0</td>\n",
       "      <td>161.28</td>\n",
       "      <td>19.1</td>\n",
       "      <td>NaN</td>\n",
       "      <td>0</td>\n",
       "    </tr>\n",
       "  </tbody>\n",
       "</table>\n",
       "</div>"
      ],
      "text/plain": [
       "   Gender_Male  Gender_Other Age_new  Hypertension  Heart_Disease  \\\n",
       "0            1             0       0             0              0   \n",
       "1            1             0       2             1              0   \n",
       "2            0             0       0             0              0   \n",
       "3            0             0       2             0              0   \n",
       "4            1             0       0             0              0   \n",
       "\n",
       "   Ever_Married_Yes  Work_Type_Never_worked  Work_Type_Private  \\\n",
       "0                 0                       0                  0   \n",
       "1                 1                       0                  1   \n",
       "2                 0                       0                  1   \n",
       "3                 1                       0                  1   \n",
       "4                 0                       1                  0   \n",
       "\n",
       "   Work_Type_Self-employed  Work_Type_children  Residence_Type_Urban  \\\n",
       "0                        0                   1                     0   \n",
       "1                        0                   0                     1   \n",
       "2                        0                   0                     1   \n",
       "3                        0                   0                     0   \n",
       "4                        0                   0                     0   \n",
       "\n",
       "   Avg_Glucose_Level   BMI  Smoking_Status  Stroke  \n",
       "0              95.12  18.0             NaN       0  \n",
       "1              87.96  39.2             0.0       0  \n",
       "2             110.89  17.6             NaN       0  \n",
       "3              69.04  35.9             1.0       0  \n",
       "4             161.28  19.1             NaN       0  "
      ]
     },
     "execution_count": 45,
     "metadata": {},
     "output_type": "execute_result"
    }
   ],
   "source": [
    "df1.head()"
   ]
  },
  {
   "cell_type": "code",
   "execution_count": 46,
   "id": "7b6bd839",
   "metadata": {},
   "outputs": [
    {
     "data": {
      "text/plain": [
       "Index(['Gender_Male', 'Gender_Other', 'Age_new', 'Hypertension',\n",
       "       'Heart_Disease', 'Ever_Married_Yes', 'Work_Type_Never_worked',\n",
       "       'Work_Type_Private', 'Work_Type_Self-employed', 'Work_Type_children',\n",
       "       'Residence_Type_Urban', 'Avg_Glucose_Level', 'BMI', 'Smoking_Status',\n",
       "       'Stroke'],\n",
       "      dtype='object')"
      ]
     },
     "execution_count": 46,
     "metadata": {},
     "output_type": "execute_result"
    }
   ],
   "source": [
    "df1.columns"
   ]
  },
  {
   "cell_type": "code",
   "execution_count": 47,
   "id": "7bcbbcd7",
   "metadata": {},
   "outputs": [],
   "source": [
    "features = ['Gender_Male', 'Gender_Other', 'Age_new', 'Hypertension','Heart_Disease', 'Ever_Married_Yes', 'Work_Type_Never_worked',\n",
    "            'Work_Type_Private', 'Work_Type_Self-employed', 'Work_Type_children','Residence_Type_Urban', 'Smoking_Status','Stroke']"
   ]
  },
  {
   "cell_type": "code",
   "execution_count": 48,
   "id": "5a596044",
   "metadata": {},
   "outputs": [
    {
     "name": "stdout",
     "output_type": "stream",
     "text": [
      "<class 'pandas.core.frame.DataFrame'>\n",
      "RangeIndex: 43400 entries, 0 to 43399\n",
      "Data columns (total 15 columns):\n",
      " #   Column                   Non-Null Count  Dtype   \n",
      "---  ------                   --------------  -----   \n",
      " 0   Gender_Male              43400 non-null  category\n",
      " 1   Gender_Other             43400 non-null  category\n",
      " 2   Age_new                  43400 non-null  category\n",
      " 3   Hypertension             43400 non-null  category\n",
      " 4   Heart_Disease            43400 non-null  category\n",
      " 5   Ever_Married_Yes         43400 non-null  category\n",
      " 6   Work_Type_Never_worked   43400 non-null  category\n",
      " 7   Work_Type_Private        43400 non-null  category\n",
      " 8   Work_Type_Self-employed  43400 non-null  category\n",
      " 9   Work_Type_children       43400 non-null  category\n",
      " 10  Residence_Type_Urban     43400 non-null  category\n",
      " 11  Avg_Glucose_Level        43400 non-null  float64 \n",
      " 12  BMI                      41938 non-null  float64 \n",
      " 13  Smoking_Status           30108 non-null  category\n",
      " 14  Stroke                   43400 non-null  category\n",
      "dtypes: category(13), float64(2)\n",
      "memory usage: 1.2 MB\n"
     ]
    }
   ],
   "source": [
    "for feature in features:\n",
    "    df1[feature] = df1[feature].astype('category')\n",
    "df1.info()"
   ]
  },
  {
   "cell_type": "code",
   "execution_count": 49,
   "id": "f1d528e8",
   "metadata": {},
   "outputs": [],
   "source": [
    "#Importing the KNN from fancyimpute library\n",
    "#from fancyimpute import KNN\n",
    "from sklearn.impute import KNNImputer\n",
    "\n",
    "imputer = KNNImputer(n_neighbors=5)\n",
    "df1 = pd.DataFrame(imputer.fit_transform(df1),columns = df1.columns)\n",
    "#df=pd.DataFrame(data=mice.complete(d), columns=d.columns, index=d.index)"
   ]
  },
  {
   "cell_type": "markdown",
   "id": "905df21d",
   "metadata": {},
   "source": []
  },
  {
   "cell_type": "code",
   "execution_count": 50,
   "id": "fd02cfb8",
   "metadata": {},
   "outputs": [
    {
     "data": {
      "text/plain": [
       "Gender_Male                0\n",
       "Gender_Other               0\n",
       "Age_new                    0\n",
       "Hypertension               0\n",
       "Heart_Disease              0\n",
       "Ever_Married_Yes           0\n",
       "Work_Type_Never_worked     0\n",
       "Work_Type_Private          0\n",
       "Work_Type_Self-employed    0\n",
       "Work_Type_children         0\n",
       "Residence_Type_Urban       0\n",
       "Avg_Glucose_Level          0\n",
       "BMI                        0\n",
       "Smoking_Status             0\n",
       "Stroke                     0\n",
       "dtype: int64"
      ]
     },
     "execution_count": 50,
     "metadata": {},
     "output_type": "execute_result"
    }
   ],
   "source": [
    "df1.isna().sum()"
   ]
  },
  {
   "cell_type": "code",
   "execution_count": 51,
   "id": "44d91df6",
   "metadata": {},
   "outputs": [
    {
     "name": "stdout",
     "output_type": "stream",
     "text": [
      "<class 'pandas.core.frame.DataFrame'>\n",
      "RangeIndex: 43400 entries, 0 to 43399\n",
      "Data columns (total 15 columns):\n",
      " #   Column                   Non-Null Count  Dtype  \n",
      "---  ------                   --------------  -----  \n",
      " 0   Gender_Male              43400 non-null  float64\n",
      " 1   Gender_Other             43400 non-null  float64\n",
      " 2   Age_new                  43400 non-null  float64\n",
      " 3   Hypertension             43400 non-null  float64\n",
      " 4   Heart_Disease            43400 non-null  float64\n",
      " 5   Ever_Married_Yes         43400 non-null  float64\n",
      " 6   Work_Type_Never_worked   43400 non-null  float64\n",
      " 7   Work_Type_Private        43400 non-null  float64\n",
      " 8   Work_Type_Self-employed  43400 non-null  float64\n",
      " 9   Work_Type_children       43400 non-null  float64\n",
      " 10  Residence_Type_Urban     43400 non-null  float64\n",
      " 11  Avg_Glucose_Level        43400 non-null  float64\n",
      " 12  BMI                      43400 non-null  float64\n",
      " 13  Smoking_Status           43400 non-null  float64\n",
      " 14  Stroke                   43400 non-null  float64\n",
      "dtypes: float64(15)\n",
      "memory usage: 5.0 MB\n"
     ]
    }
   ],
   "source": [
    "df1.info()"
   ]
  },
  {
   "cell_type": "code",
   "execution_count": 52,
   "id": "32fc7356",
   "metadata": {},
   "outputs": [
    {
     "data": {
      "text/html": [
       "<div>\n",
       "<style scoped>\n",
       "    .dataframe tbody tr th:only-of-type {\n",
       "        vertical-align: middle;\n",
       "    }\n",
       "\n",
       "    .dataframe tbody tr th {\n",
       "        vertical-align: top;\n",
       "    }\n",
       "\n",
       "    .dataframe thead th {\n",
       "        text-align: right;\n",
       "    }\n",
       "</style>\n",
       "<table border=\"1\" class=\"dataframe\">\n",
       "  <thead>\n",
       "    <tr style=\"text-align: right;\">\n",
       "      <th></th>\n",
       "      <th>Gender_Male</th>\n",
       "      <th>Gender_Other</th>\n",
       "      <th>Age_new</th>\n",
       "      <th>Hypertension</th>\n",
       "      <th>Heart_Disease</th>\n",
       "      <th>Ever_Married_Yes</th>\n",
       "      <th>Work_Type_Never_worked</th>\n",
       "      <th>Work_Type_Private</th>\n",
       "      <th>Work_Type_Self-employed</th>\n",
       "      <th>Work_Type_children</th>\n",
       "      <th>Residence_Type_Urban</th>\n",
       "      <th>Avg_Glucose_Level</th>\n",
       "      <th>BMI</th>\n",
       "      <th>Smoking_Status</th>\n",
       "      <th>Stroke</th>\n",
       "    </tr>\n",
       "  </thead>\n",
       "  <tbody>\n",
       "    <tr>\n",
       "      <th>0</th>\n",
       "      <td>1.0</td>\n",
       "      <td>0.0</td>\n",
       "      <td>0.0</td>\n",
       "      <td>0.0</td>\n",
       "      <td>0.0</td>\n",
       "      <td>0.0</td>\n",
       "      <td>0.0</td>\n",
       "      <td>0.0</td>\n",
       "      <td>0.0</td>\n",
       "      <td>1.0</td>\n",
       "      <td>0.0</td>\n",
       "      <td>95.12</td>\n",
       "      <td>18.0</td>\n",
       "      <td>0.2</td>\n",
       "      <td>0.0</td>\n",
       "    </tr>\n",
       "    <tr>\n",
       "      <th>1</th>\n",
       "      <td>1.0</td>\n",
       "      <td>0.0</td>\n",
       "      <td>2.0</td>\n",
       "      <td>1.0</td>\n",
       "      <td>0.0</td>\n",
       "      <td>1.0</td>\n",
       "      <td>0.0</td>\n",
       "      <td>1.0</td>\n",
       "      <td>0.0</td>\n",
       "      <td>0.0</td>\n",
       "      <td>1.0</td>\n",
       "      <td>87.96</td>\n",
       "      <td>39.2</td>\n",
       "      <td>0.0</td>\n",
       "      <td>0.0</td>\n",
       "    </tr>\n",
       "    <tr>\n",
       "      <th>2</th>\n",
       "      <td>0.0</td>\n",
       "      <td>0.0</td>\n",
       "      <td>0.0</td>\n",
       "      <td>0.0</td>\n",
       "      <td>0.0</td>\n",
       "      <td>0.0</td>\n",
       "      <td>0.0</td>\n",
       "      <td>1.0</td>\n",
       "      <td>0.0</td>\n",
       "      <td>0.0</td>\n",
       "      <td>1.0</td>\n",
       "      <td>110.89</td>\n",
       "      <td>17.6</td>\n",
       "      <td>0.2</td>\n",
       "      <td>0.0</td>\n",
       "    </tr>\n",
       "    <tr>\n",
       "      <th>3</th>\n",
       "      <td>0.0</td>\n",
       "      <td>0.0</td>\n",
       "      <td>2.0</td>\n",
       "      <td>0.0</td>\n",
       "      <td>0.0</td>\n",
       "      <td>1.0</td>\n",
       "      <td>0.0</td>\n",
       "      <td>1.0</td>\n",
       "      <td>0.0</td>\n",
       "      <td>0.0</td>\n",
       "      <td>0.0</td>\n",
       "      <td>69.04</td>\n",
       "      <td>35.9</td>\n",
       "      <td>1.0</td>\n",
       "      <td>0.0</td>\n",
       "    </tr>\n",
       "    <tr>\n",
       "      <th>4</th>\n",
       "      <td>1.0</td>\n",
       "      <td>0.0</td>\n",
       "      <td>0.0</td>\n",
       "      <td>0.0</td>\n",
       "      <td>0.0</td>\n",
       "      <td>0.0</td>\n",
       "      <td>1.0</td>\n",
       "      <td>0.0</td>\n",
       "      <td>0.0</td>\n",
       "      <td>0.0</td>\n",
       "      <td>0.0</td>\n",
       "      <td>161.28</td>\n",
       "      <td>19.1</td>\n",
       "      <td>0.8</td>\n",
       "      <td>0.0</td>\n",
       "    </tr>\n",
       "    <tr>\n",
       "      <th>5</th>\n",
       "      <td>0.0</td>\n",
       "      <td>0.0</td>\n",
       "      <td>1.0</td>\n",
       "      <td>0.0</td>\n",
       "      <td>0.0</td>\n",
       "      <td>1.0</td>\n",
       "      <td>0.0</td>\n",
       "      <td>1.0</td>\n",
       "      <td>0.0</td>\n",
       "      <td>0.0</td>\n",
       "      <td>1.0</td>\n",
       "      <td>210.95</td>\n",
       "      <td>50.1</td>\n",
       "      <td>0.2</td>\n",
       "      <td>0.0</td>\n",
       "    </tr>\n",
       "    <tr>\n",
       "      <th>6</th>\n",
       "      <td>0.0</td>\n",
       "      <td>0.0</td>\n",
       "      <td>1.0</td>\n",
       "      <td>0.0</td>\n",
       "      <td>0.0</td>\n",
       "      <td>1.0</td>\n",
       "      <td>0.0</td>\n",
       "      <td>1.0</td>\n",
       "      <td>0.0</td>\n",
       "      <td>0.0</td>\n",
       "      <td>1.0</td>\n",
       "      <td>77.59</td>\n",
       "      <td>17.7</td>\n",
       "      <td>1.0</td>\n",
       "      <td>0.0</td>\n",
       "    </tr>\n",
       "    <tr>\n",
       "      <th>7</th>\n",
       "      <td>0.0</td>\n",
       "      <td>0.0</td>\n",
       "      <td>2.0</td>\n",
       "      <td>0.0</td>\n",
       "      <td>1.0</td>\n",
       "      <td>1.0</td>\n",
       "      <td>0.0</td>\n",
       "      <td>0.0</td>\n",
       "      <td>1.0</td>\n",
       "      <td>0.0</td>\n",
       "      <td>0.0</td>\n",
       "      <td>243.53</td>\n",
       "      <td>27.0</td>\n",
       "      <td>0.0</td>\n",
       "      <td>0.0</td>\n",
       "    </tr>\n",
       "    <tr>\n",
       "      <th>8</th>\n",
       "      <td>0.0</td>\n",
       "      <td>0.0</td>\n",
       "      <td>1.0</td>\n",
       "      <td>0.0</td>\n",
       "      <td>0.0</td>\n",
       "      <td>1.0</td>\n",
       "      <td>0.0</td>\n",
       "      <td>1.0</td>\n",
       "      <td>0.0</td>\n",
       "      <td>0.0</td>\n",
       "      <td>0.0</td>\n",
       "      <td>77.67</td>\n",
       "      <td>32.3</td>\n",
       "      <td>2.0</td>\n",
       "      <td>0.0</td>\n",
       "    </tr>\n",
       "    <tr>\n",
       "      <th>9</th>\n",
       "      <td>0.0</td>\n",
       "      <td>0.0</td>\n",
       "      <td>2.0</td>\n",
       "      <td>1.0</td>\n",
       "      <td>0.0</td>\n",
       "      <td>1.0</td>\n",
       "      <td>0.0</td>\n",
       "      <td>0.0</td>\n",
       "      <td>1.0</td>\n",
       "      <td>0.0</td>\n",
       "      <td>1.0</td>\n",
       "      <td>205.84</td>\n",
       "      <td>54.6</td>\n",
       "      <td>0.0</td>\n",
       "      <td>0.0</td>\n",
       "    </tr>\n",
       "  </tbody>\n",
       "</table>\n",
       "</div>"
      ],
      "text/plain": [
       "   Gender_Male  Gender_Other  Age_new  Hypertension  Heart_Disease  \\\n",
       "0          1.0           0.0      0.0           0.0            0.0   \n",
       "1          1.0           0.0      2.0           1.0            0.0   \n",
       "2          0.0           0.0      0.0           0.0            0.0   \n",
       "3          0.0           0.0      2.0           0.0            0.0   \n",
       "4          1.0           0.0      0.0           0.0            0.0   \n",
       "5          0.0           0.0      1.0           0.0            0.0   \n",
       "6          0.0           0.0      1.0           0.0            0.0   \n",
       "7          0.0           0.0      2.0           0.0            1.0   \n",
       "8          0.0           0.0      1.0           0.0            0.0   \n",
       "9          0.0           0.0      2.0           1.0            0.0   \n",
       "\n",
       "   Ever_Married_Yes  Work_Type_Never_worked  Work_Type_Private  \\\n",
       "0               0.0                     0.0                0.0   \n",
       "1               1.0                     0.0                1.0   \n",
       "2               0.0                     0.0                1.0   \n",
       "3               1.0                     0.0                1.0   \n",
       "4               0.0                     1.0                0.0   \n",
       "5               1.0                     0.0                1.0   \n",
       "6               1.0                     0.0                1.0   \n",
       "7               1.0                     0.0                0.0   \n",
       "8               1.0                     0.0                1.0   \n",
       "9               1.0                     0.0                0.0   \n",
       "\n",
       "   Work_Type_Self-employed  Work_Type_children  Residence_Type_Urban  \\\n",
       "0                      0.0                 1.0                   0.0   \n",
       "1                      0.0                 0.0                   1.0   \n",
       "2                      0.0                 0.0                   1.0   \n",
       "3                      0.0                 0.0                   0.0   \n",
       "4                      0.0                 0.0                   0.0   \n",
       "5                      0.0                 0.0                   1.0   \n",
       "6                      0.0                 0.0                   1.0   \n",
       "7                      1.0                 0.0                   0.0   \n",
       "8                      0.0                 0.0                   0.0   \n",
       "9                      1.0                 0.0                   1.0   \n",
       "\n",
       "   Avg_Glucose_Level   BMI  Smoking_Status  Stroke  \n",
       "0              95.12  18.0             0.2     0.0  \n",
       "1              87.96  39.2             0.0     0.0  \n",
       "2             110.89  17.6             0.2     0.0  \n",
       "3              69.04  35.9             1.0     0.0  \n",
       "4             161.28  19.1             0.8     0.0  \n",
       "5             210.95  50.1             0.2     0.0  \n",
       "6              77.59  17.7             1.0     0.0  \n",
       "7             243.53  27.0             0.0     0.0  \n",
       "8              77.67  32.3             2.0     0.0  \n",
       "9             205.84  54.6             0.0     0.0  "
      ]
     },
     "execution_count": 52,
     "metadata": {},
     "output_type": "execute_result"
    }
   ],
   "source": [
    "df1.head(10)"
   ]
  },
  {
   "cell_type": "markdown",
   "id": "459f189c",
   "metadata": {},
   "source": [
    "#### Outlier Treatment:"
   ]
  },
  {
   "cell_type": "code",
   "execution_count": 53,
   "id": "955fbc42",
   "metadata": {},
   "outputs": [
    {
     "data": {
      "image/png": "[encoded data removed]",
      "text/plain": [
       "<Figure size 432x288 with 1 Axes>"
      ]
     },
     "metadata": {
      "needs_background": "light"
     },
     "output_type": "display_data"
    },
    {
     "data": {
      "image/png": "[encoded data removed]",
      "text/plain": [
       "<Figure size 432x288 with 1 Axes>"
      ]
     },
     "metadata": {
      "needs_background": "light"
     },
     "output_type": "display_data"
    }
   ],
   "source": [
    "for feature in ['Avg_Glucose_Level','BMI']:\n",
    "    sns.boxplot(feature,data=df1)\n",
    "    plt.show()"
   ]
  },
  {
   "cell_type": "code",
   "execution_count": 54,
   "id": "5885c5c7",
   "metadata": {},
   "outputs": [
    {
     "name": "stdout",
     "output_type": "stream",
     "text": [
      "Feature: Avg_Glucose_Level\n",
      "Value of Interquartile Range :- 34.52999999999999\n",
      "Lower Limit to detect outliers :-  25.745000000000026\n",
      "Upper Limit to detect outliers :-  163.86499999999998\n",
      "\n",
      "Feature: BMI\n",
      "Value of Interquartile Range :- 9.5\n",
      "Lower Limit to detect outliers :-  9.149999999999999\n",
      "Upper Limit to detect outliers :-  47.15\n",
      "\n",
      "Original data set shape :- (43400, 15)\n",
      "Removed outlier data set shape :-  (42455, 15)\n"
     ]
    }
   ],
   "source": [
    "#### USING IQR:\n",
    " \n",
    "for feature in ['Avg_Glucose_Level','BMI']:\n",
    "    print('Feature:',feature)\n",
    "    Q1 = df1[feature].quantile(0.25)\n",
    "    Q3 = df1[feature].quantile(0.75)\n",
    "    IQR = Q3 - Q1 \n",
    "    print('Value of Interquartile Range :-',IQR)\n",
    "    \n",
    "    # Calculate Lower Limit and Upper limit value to remove outliers\n",
    "    \n",
    "    Lower_Limit = Q1 - 1.5 * IQR            \n",
    "    print('Lower Limit to detect outliers :- ',Lower_Limit)\n",
    "\n",
    "    Upper_Limit = Q3 + 1.5 * IQR      \n",
    "    print('Upper Limit to detect outliers :- ',Upper_Limit)\n",
    "    \n",
    "    dfiqr = df1[~((df1[feature] < Lower_Limit ) | (df1[feature] > Upper_Limit))]\n",
    "    \n",
    "    print()\n",
    "\n",
    "print('Original data set shape :-',df1.shape)\n",
    "\n",
    "print('Removed outlier data set shape :- ',dfiqr.shape)"
   ]
  },
  {
   "cell_type": "code",
   "execution_count": 55,
   "id": "ca606e10",
   "metadata": {},
   "outputs": [
    {
     "data": {
      "text/plain": [
       "(43400, 15)"
      ]
     },
     "execution_count": 55,
     "metadata": {},
     "output_type": "execute_result"
    }
   ],
   "source": [
    "df1.shape"
   ]
  },
  {
   "cell_type": "markdown",
   "id": "e231d332",
   "metadata": {},
   "source": [
    "#### Splitting data into Dependent(Y) and Independent(X) variables:"
   ]
  },
  {
   "cell_type": "code",
   "execution_count": 56,
   "id": "c75d7f53",
   "metadata": {},
   "outputs": [
    {
     "data": {
      "text/plain": [
       "Index(['Gender_Male', 'Gender_Other', 'Age_new', 'Hypertension',\n",
       "       'Heart_Disease', 'Ever_Married_Yes', 'Work_Type_Never_worked',\n",
       "       'Work_Type_Private', 'Work_Type_Self-employed', 'Work_Type_children',\n",
       "       'Residence_Type_Urban', 'Avg_Glucose_Level', 'BMI', 'Smoking_Status',\n",
       "       'Stroke'],\n",
       "      dtype='object')"
      ]
     },
     "execution_count": 56,
     "metadata": {},
     "output_type": "execute_result"
    }
   ],
   "source": [
    "dfiqr.columns"
   ]
  },
  {
   "cell_type": "code",
   "execution_count": 57,
   "id": "49a2d3ca",
   "metadata": {},
   "outputs": [],
   "source": [
    "X = dfiqr.drop(columns=['Stroke'], axis=1)\n",
    "Y = dfiqr.iloc[:,-1]"
   ]
  },
  {
   "cell_type": "code",
   "execution_count": 58,
   "id": "8c61414b",
   "metadata": {},
   "outputs": [
    {
     "data": {
      "text/html": [
       "<div>\n",
       "<style scoped>\n",
       "    .dataframe tbody tr th:only-of-type {\n",
       "        vertical-align: middle;\n",
       "    }\n",
       "\n",
       "    .dataframe tbody tr th {\n",
       "        vertical-align: top;\n",
       "    }\n",
       "\n",
       "    .dataframe thead th {\n",
       "        text-align: right;\n",
       "    }\n",
       "</style>\n",
       "<table border=\"1\" class=\"dataframe\">\n",
       "  <thead>\n",
       "    <tr style=\"text-align: right;\">\n",
       "      <th></th>\n",
       "      <th>Gender_Male</th>\n",
       "      <th>Gender_Other</th>\n",
       "      <th>Age_new</th>\n",
       "      <th>Hypertension</th>\n",
       "      <th>Heart_Disease</th>\n",
       "      <th>Ever_Married_Yes</th>\n",
       "      <th>Work_Type_Never_worked</th>\n",
       "      <th>Work_Type_Private</th>\n",
       "      <th>Work_Type_Self-employed</th>\n",
       "      <th>Work_Type_children</th>\n",
       "      <th>Residence_Type_Urban</th>\n",
       "      <th>Avg_Glucose_Level</th>\n",
       "      <th>BMI</th>\n",
       "      <th>Smoking_Status</th>\n",
       "    </tr>\n",
       "  </thead>\n",
       "  <tbody>\n",
       "    <tr>\n",
       "      <th>0</th>\n",
       "      <td>1.0</td>\n",
       "      <td>0.0</td>\n",
       "      <td>0.0</td>\n",
       "      <td>0.0</td>\n",
       "      <td>0.0</td>\n",
       "      <td>0.0</td>\n",
       "      <td>0.0</td>\n",
       "      <td>0.0</td>\n",
       "      <td>0.0</td>\n",
       "      <td>1.0</td>\n",
       "      <td>0.0</td>\n",
       "      <td>95.12</td>\n",
       "      <td>18.0</td>\n",
       "      <td>0.2</td>\n",
       "    </tr>\n",
       "    <tr>\n",
       "      <th>1</th>\n",
       "      <td>1.0</td>\n",
       "      <td>0.0</td>\n",
       "      <td>2.0</td>\n",
       "      <td>1.0</td>\n",
       "      <td>0.0</td>\n",
       "      <td>1.0</td>\n",
       "      <td>0.0</td>\n",
       "      <td>1.0</td>\n",
       "      <td>0.0</td>\n",
       "      <td>0.0</td>\n",
       "      <td>1.0</td>\n",
       "      <td>87.96</td>\n",
       "      <td>39.2</td>\n",
       "      <td>0.0</td>\n",
       "    </tr>\n",
       "    <tr>\n",
       "      <th>2</th>\n",
       "      <td>0.0</td>\n",
       "      <td>0.0</td>\n",
       "      <td>0.0</td>\n",
       "      <td>0.0</td>\n",
       "      <td>0.0</td>\n",
       "      <td>0.0</td>\n",
       "      <td>0.0</td>\n",
       "      <td>1.0</td>\n",
       "      <td>0.0</td>\n",
       "      <td>0.0</td>\n",
       "      <td>1.0</td>\n",
       "      <td>110.89</td>\n",
       "      <td>17.6</td>\n",
       "      <td>0.2</td>\n",
       "    </tr>\n",
       "    <tr>\n",
       "      <th>3</th>\n",
       "      <td>0.0</td>\n",
       "      <td>0.0</td>\n",
       "      <td>2.0</td>\n",
       "      <td>0.0</td>\n",
       "      <td>0.0</td>\n",
       "      <td>1.0</td>\n",
       "      <td>0.0</td>\n",
       "      <td>1.0</td>\n",
       "      <td>0.0</td>\n",
       "      <td>0.0</td>\n",
       "      <td>0.0</td>\n",
       "      <td>69.04</td>\n",
       "      <td>35.9</td>\n",
       "      <td>1.0</td>\n",
       "    </tr>\n",
       "    <tr>\n",
       "      <th>4</th>\n",
       "      <td>1.0</td>\n",
       "      <td>0.0</td>\n",
       "      <td>0.0</td>\n",
       "      <td>0.0</td>\n",
       "      <td>0.0</td>\n",
       "      <td>0.0</td>\n",
       "      <td>1.0</td>\n",
       "      <td>0.0</td>\n",
       "      <td>0.0</td>\n",
       "      <td>0.0</td>\n",
       "      <td>0.0</td>\n",
       "      <td>161.28</td>\n",
       "      <td>19.1</td>\n",
       "      <td>0.8</td>\n",
       "    </tr>\n",
       "  </tbody>\n",
       "</table>\n",
       "</div>"
      ],
      "text/plain": [
       "   Gender_Male  Gender_Other  Age_new  Hypertension  Heart_Disease  \\\n",
       "0          1.0           0.0      0.0           0.0            0.0   \n",
       "1          1.0           0.0      2.0           1.0            0.0   \n",
       "2          0.0           0.0      0.0           0.0            0.0   \n",
       "3          0.0           0.0      2.0           0.0            0.0   \n",
       "4          1.0           0.0      0.0           0.0            0.0   \n",
       "\n",
       "   Ever_Married_Yes  Work_Type_Never_worked  Work_Type_Private  \\\n",
       "0               0.0                     0.0                0.0   \n",
       "1               1.0                     0.0                1.0   \n",
       "2               0.0                     0.0                1.0   \n",
       "3               1.0                     0.0                1.0   \n",
       "4               0.0                     1.0                0.0   \n",
       "\n",
       "   Work_Type_Self-employed  Work_Type_children  Residence_Type_Urban  \\\n",
       "0                      0.0                 1.0                   0.0   \n",
       "1                      0.0                 0.0                   1.0   \n",
       "2                      0.0                 0.0                   1.0   \n",
       "3                      0.0                 0.0                   0.0   \n",
       "4                      0.0                 0.0                   0.0   \n",
       "\n",
       "   Avg_Glucose_Level   BMI  Smoking_Status  \n",
       "0              95.12  18.0             0.2  \n",
       "1              87.96  39.2             0.0  \n",
       "2             110.89  17.6             0.2  \n",
       "3              69.04  35.9             1.0  \n",
       "4             161.28  19.1             0.8  "
      ]
     },
     "execution_count": 58,
     "metadata": {},
     "output_type": "execute_result"
    }
   ],
   "source": [
    "X.head()"
   ]
  },
  {
   "cell_type": "code",
   "execution_count": 59,
   "id": "44eb0e40",
   "metadata": {},
   "outputs": [
    {
     "data": {
      "text/plain": [
       "0    0.0\n",
       "1    0.0\n",
       "2    0.0\n",
       "3    0.0\n",
       "4    0.0\n",
       "Name: Stroke, dtype: float64"
      ]
     },
     "execution_count": 59,
     "metadata": {},
     "output_type": "execute_result"
    }
   ],
   "source": [
    "Y.head()"
   ]
  },
  {
   "cell_type": "markdown",
   "id": "8b917103",
   "metadata": {},
   "source": [
    "#### Performing train test split:"
   ]
  },
  {
   "cell_type": "code",
   "execution_count": 60,
   "id": "bc4ede5d",
   "metadata": {},
   "outputs": [],
   "source": [
    "X_train, X_test, Y_train, Y_test = train_test_split(X,Y,test_size=0.2,random_state=42,stratify=Y)"
   ]
  },
  {
   "cell_type": "code",
   "execution_count": 61,
   "id": "7e8e5187",
   "metadata": {},
   "outputs": [
    {
     "name": "stdout",
     "output_type": "stream",
     "text": [
      "Shape of train data:\n",
      "\n",
      "Shape of X train: (33964, 14)\n",
      "Shape of Y train: (33964,)\n",
      "\n",
      "Shape of test data:\n",
      "\n",
      "Shape of X test: (8491, 14)\n",
      "Shape of Y test: (8491,)\n"
     ]
    }
   ],
   "source": [
    "print(\"Shape of train data:\")\n",
    "print(\"\\nShape of X train:\",X_train.shape)\n",
    "print(\"Shape of Y train:\",Y_train.shape)\n",
    "\n",
    "print(\"\\nShape of test data:\")\n",
    "print(\"\\nShape of X test:\",X_test.shape)\n",
    "print(\"Shape of Y test:\",Y_test.shape)"
   ]
  },
  {
   "cell_type": "markdown",
   "id": "99692ca8",
   "metadata": {},
   "source": [
    "#### Performing MinMaxScaling on data:"
   ]
  },
  {
   "cell_type": "code",
   "execution_count": 62,
   "id": "4b1e1f24",
   "metadata": {},
   "outputs": [],
   "source": [
    "scaler=StandardScaler()\n",
    "X_train=scaler.fit_transform(X_train)\n",
    "X_test=scaler.transform(X_test)"
   ]
  },
  {
   "cell_type": "code",
   "execution_count": 63,
   "id": "3e84df50",
   "metadata": {},
   "outputs": [
    {
     "name": "stdout",
     "output_type": "stream",
     "text": [
      "X_train:\n",
      " [[ 1.19684108 -0.01716147 -0.04655064 ... -0.24410044  0.60908746\n",
      "  -0.94073817]\n",
      " [ 1.19684108 -0.01716147 -0.04655064 ...  0.5445837   0.74116748\n",
      "   1.87804871]\n",
      " [-0.83553282 -0.01716147 -1.31138736 ...  0.00398    -0.96119713\n",
      "   1.87804871]\n",
      " ...\n",
      " [-0.83553282 -0.01716147 -0.04655064 ... -0.76918442  1.13740752\n",
      "   0.18677658]\n",
      " [ 1.19684108 -0.01716147 -1.31138736 ...  0.83593124  0.18349631\n",
      "   1.87804871]\n",
      " [-0.83553282 -0.01716147 -0.04655064 ... -0.24386529 -0.68236155\n",
      "   0.46865527]]\n",
      "X_test:\n",
      " [[-0.83553282 -0.01716147 -0.04655064 ...  2.63457315  0.79986971\n",
      "  -0.94073817]\n",
      " [-0.83553282 -0.01716147 -1.31138736 ... -0.70922185 -0.88488423\n",
      "   0.75053396]\n",
      " [ 1.19684108 -0.01716147 -1.31138736 ... -0.55120284 -0.93184602\n",
      "  -0.94073817]\n",
      " ...\n",
      " [-0.83553282 -0.01716147 -1.31138736 ... -0.23822175 -0.71171266\n",
      "   1.87804871]\n",
      " [-0.83553282 -0.01716147 -1.31138736 ... -0.60505158 -1.1079527\n",
      "  -0.37698079]\n",
      " [-0.83553282 -0.01716147 -0.04655064 ... -0.52392575  2.69301655\n",
      "  -0.94073817]]\n"
     ]
    }
   ],
   "source": [
    "print('X_train:\\n',X_train)\n",
    "print('X_test:\\n',X_test)"
   ]
  },
  {
   "cell_type": "markdown",
   "id": "0c98d02c",
   "metadata": {},
   "source": [
    "#### SMOTE:"
   ]
  },
  {
   "cell_type": "code",
   "execution_count": 64,
   "id": "a5088c46",
   "metadata": {},
   "outputs": [
    {
     "name": "stdout",
     "output_type": "stream",
     "text": [
      "Before OverSampling, counts of label '1': 618\n",
      "Before OverSampling, counts of label '0': 33346 \n",
      "\n"
     ]
    }
   ],
   "source": [
    "print(\"Before OverSampling, counts of label '1': {}\".format(sum(Y_train == 1)))\n",
    "print(\"Before OverSampling, counts of label '0': {} \\n\".format(sum(Y_train == 0)))\n",
    "\n",
    "#sm = SMOTE(random_state = 2)\n",
    "smk = SMOTETomek(random_state=42)\n",
    "X_train_res, Y_train_res = smk.fit_resample(X_train, Y_train)"
   ]
  },
  {
   "cell_type": "code",
   "execution_count": 65,
   "id": "21a7332e",
   "metadata": {},
   "outputs": [
    {
     "name": "stdout",
     "output_type": "stream",
     "text": [
      "After OverSampling, counts of label '1': 32839\n",
      "After OverSampling, counts of label '0': 32839\n",
      "\n",
      "After OverSampling, the shape of X_train: (65678, 14)\n",
      "After OverSampling, the shape of Y_train: (65678,) \n",
      "\n"
     ]
    }
   ],
   "source": [
    "\n",
    "print(\"After OverSampling, counts of label '1': {}\".format(sum(Y_train_res == 1)))\n",
    "print(\"After OverSampling, counts of label '0': {}\".format(sum(Y_train_res == 0)))\n",
    "\n",
    "print('\\nAfter OverSampling, the shape of X_train: {}'.format(X_train_res.shape))\n",
    "print('After OverSampling, the shape of Y_train: {} \\n'.format(Y_train_res.shape))"
   ]
  },
  {
   "cell_type": "markdown",
   "id": "7585cf8d",
   "metadata": {},
   "source": [
    "#### Model Building:"
   ]
  },
  {
   "cell_type": "markdown",
   "id": "26cf890f",
   "metadata": {},
   "source": [
    "For KNN we need to define number of clusters:"
   ]
  },
  {
   "cell_type": "code",
   "execution_count": 66,
   "id": "4eac6f03",
   "metadata": {},
   "outputs": [
    {
     "data": {
      "text/plain": [
       "[DecisionTreeClassifier(),\n",
       " RandomForestClassifier(),\n",
       " KNeighborsClassifier(n_neighbors=3),\n",
       " GaussianNB(),\n",
       " SVC()]"
      ]
     },
     "execution_count": 66,
     "metadata": {},
     "output_type": "execute_result"
    }
   ],
   "source": [
    "models = [DecisionTreeClassifier(),RandomForestClassifier(),KNeighborsClassifier(n_neighbors=3),GaussianNB(),SVC()]\n",
    "models"
   ]
  },
  {
   "cell_type": "code",
   "execution_count": 67,
   "id": "6e10afdf",
   "metadata": {},
   "outputs": [],
   "source": [
    "train_accuracy = []\n",
    "test_accuracy = []"
   ]
  },
  {
   "cell_type": "markdown",
   "id": "07aee7de",
   "metadata": {},
   "source": [
    "#### Finding optimal number of 'K' in KNN:"
   ]
  },
  {
   "cell_type": "code",
   "execution_count": 68,
   "id": "bf15b133",
   "metadata": {},
   "outputs": [],
   "source": [
    "knn = KNeighborsClassifier()"
   ]
  },
  {
   "cell_type": "code",
   "execution_count": 69,
   "id": "04a0d6e5",
   "metadata": {},
   "outputs": [
    {
     "data": {
      "text/plain": [
       "[0.08644447061594629,\n",
       " 0.11023436579908139,\n",
       " 0.1270757272406077,\n",
       " 0.14061947944882816,\n",
       " 0.15333882934872217,\n",
       " 0.16417383111529854,\n",
       " 0.17241785419856318,\n",
       " 0.1806618772818278,\n",
       " 0.18819926981509835,\n",
       " 0.1942056294900483,\n",
       " 0.20138970674832174,\n",
       " 0.2066894358732776,\n",
       " 0.21505123071487459,\n",
       " 0.22152867742315394,\n",
       " 0.22565068896478624,\n",
       " 0.23036155929808033,\n",
       " 0.2341302555647156,\n",
       " 0.23789895183135085,\n",
       " 0.24425862678129784,\n",
       " 0.24696737722294193,\n",
       " 0.2512071605229066,\n",
       " 0.2566246614061948,\n",
       " 0.2607466729478271,\n",
       " 0.26286656459780944,\n",
       " 0.2653397715227888,\n",
       " 0.26922623954775643]"
      ]
     },
     "execution_count": 69,
     "metadata": {},
     "output_type": "execute_result"
    }
   ],
   "source": [
    "error_rate=[]#list that will store the average error rate value of k\n",
    "for i in range (1,52,2):  #Took the range of k from 1 to 52\n",
    "    knn=KNeighborsClassifier(n_neighbors=i)\n",
    "    knn.fit(X_train_res,Y_train_res)\n",
    "    predict_i=knn.predict(X_test)\n",
    "    error_rate.append(np.mean(predict_i!=Y_test))\n",
    "error_rate"
   ]
  },
  {
   "cell_type": "code",
   "execution_count": 70,
   "id": "e3c06bcc",
   "metadata": {},
   "outputs": [
    {
     "data": {
      "image/png": "[encoded data removed]",
      "text/plain": [
       "<Figure size 864x432 with 1 Axes>"
      ]
     },
     "metadata": {
      "needs_background": "light"
     },
     "output_type": "display_data"
    }
   ],
   "source": [
    "#plotting the error rate vs k graph \n",
    "plt.figure(figsize=(12,6))\n",
    "plt.plot(range(1,52,2),error_rate,marker=\"o\",markerfacecolor=\"green\",linestyle=\"dashed\",color=\"red\",markersize=15)\n",
    "plt.title(\"Error Rate vs K value\",fontsize=20)\n",
    "plt.xlabel(\"K\",fontsize=20)\n",
    "plt.ylabel(\"Error Rate\",fontsize=20)\n",
    "plt.xticks(range(1,52,2))\n",
    "plt.show()"
   ]
  },
  {
   "cell_type": "code",
   "execution_count": 71,
   "id": "9ca63dc2",
   "metadata": {},
   "outputs": [
    {
     "name": "stdout",
     "output_type": "stream",
     "text": [
      "K = 1\n",
      "Accuracy of Train data for K = 1 is 1.0\n",
      "Accuracy of Test data for K = 1 is 0.9135555293840537\n",
      "K = 3\n",
      "Accuracy of Train data for K = 3 is 0.9748317549255459\n",
      "Accuracy of Test data for K = 3 is 0.8897656342009186\n",
      "K = 5\n",
      "Accuracy of Train data for K = 5 is 0.9597429885197478\n",
      "Accuracy of Test data for K = 5 is 0.8729242727593923\n",
      "K = 7\n",
      "Accuracy of Train data for K = 7 is 0.9493133164834495\n",
      "Accuracy of Test data for K = 7 is 0.8593805205511719\n",
      "K = 9\n",
      "Accuracy of Train data for K = 9 is 0.9410152562501903\n",
      "Accuracy of Test data for K = 9 is 0.8466611706512778\n",
      "K = 11\n",
      "Accuracy of Train data for K = 11 is 0.934041840494534\n",
      "Accuracy of Test data for K = 11 is 0.8358261688847014\n",
      "K = 13\n",
      "Accuracy of Train data for K = 13 is 0.9274338439051129\n",
      "Accuracy of Test data for K = 13 is 0.8275821458014369\n",
      "K = 15\n",
      "Accuracy of Train data for K = 15 is 0.9219525564115838\n",
      "Accuracy of Test data for K = 15 is 0.8193381227181722\n",
      "K = 17\n",
      "Accuracy of Train data for K = 17 is 0.9165930753067998\n",
      "Accuracy of Test data for K = 17 is 0.8118007301849016\n",
      "K = 19\n",
      "Accuracy of Train data for K = 19 is 0.9122841743049422\n",
      "Accuracy of Test data for K = 19 is 0.8057943705099517\n",
      "K = 21\n",
      "Accuracy of Train data for K = 21 is 0.90834069246932\n",
      "Accuracy of Test data for K = 21 is 0.7986102932516782\n",
      "K = 23\n",
      "Accuracy of Train data for K = 23 is 0.9046103718140016\n",
      "Accuracy of Test data for K = 23 is 0.7933105641267224\n",
      "K = 25\n",
      "Accuracy of Train data for K = 25 is 0.9007125673741587\n",
      "Accuracy of Test data for K = 25 is 0.7849487692851255\n"
     ]
    }
   ],
   "source": [
    "accuracy_train=[]\n",
    "accuracy_test=[]\n",
    "for i in range(1,26,2):\n",
    "    print(\"K =\",i)\n",
    "    knn = KNeighborsClassifier(n_neighbors=i)\n",
    "    knn.fit(X_train_res,Y_train_res)\n",
    "    train_pred=knn.predict(X_train_res)\n",
    "    test_pred=knn.predict(X_test)\n",
    "    print(\"Accuracy of Train data for K =\",i,\"is\",accuracy_score(Y_train_res,train_pred))\n",
    "    print(\"Accuracy of Test data for K =\",i,\"is\",accuracy_score(Y_test,test_pred))\n",
    "    accuracy_train.append(accuracy_score(Y_train_res,train_pred))\n",
    "    accuracy_test.append(accuracy_score(Y_test,test_pred))"
   ]
  },
  {
   "cell_type": "code",
   "execution_count": 72,
   "id": "e01d0f5c",
   "metadata": {},
   "outputs": [
    {
     "data": {
      "text/html": [
       "<div>\n",
       "<style scoped>\n",
       "    .dataframe tbody tr th:only-of-type {\n",
       "        vertical-align: middle;\n",
       "    }\n",
       "\n",
       "    .dataframe tbody tr th {\n",
       "        vertical-align: top;\n",
       "    }\n",
       "\n",
       "    .dataframe thead th {\n",
       "        text-align: right;\n",
       "    }\n",
       "</style>\n",
       "<table border=\"1\" class=\"dataframe\">\n",
       "  <thead>\n",
       "    <tr style=\"text-align: right;\">\n",
       "      <th></th>\n",
       "      <th>K</th>\n",
       "      <th>Train</th>\n",
       "      <th>Test</th>\n",
       "    </tr>\n",
       "  </thead>\n",
       "  <tbody>\n",
       "    <tr>\n",
       "      <th>0</th>\n",
       "      <td>1</td>\n",
       "      <td>1.000000</td>\n",
       "      <td>0.913556</td>\n",
       "    </tr>\n",
       "    <tr>\n",
       "      <th>1</th>\n",
       "      <td>3</td>\n",
       "      <td>0.974832</td>\n",
       "      <td>0.889766</td>\n",
       "    </tr>\n",
       "    <tr>\n",
       "      <th>2</th>\n",
       "      <td>5</td>\n",
       "      <td>0.959743</td>\n",
       "      <td>0.872924</td>\n",
       "    </tr>\n",
       "    <tr>\n",
       "      <th>3</th>\n",
       "      <td>7</td>\n",
       "      <td>0.949313</td>\n",
       "      <td>0.859381</td>\n",
       "    </tr>\n",
       "    <tr>\n",
       "      <th>4</th>\n",
       "      <td>9</td>\n",
       "      <td>0.941015</td>\n",
       "      <td>0.846661</td>\n",
       "    </tr>\n",
       "    <tr>\n",
       "      <th>5</th>\n",
       "      <td>11</td>\n",
       "      <td>0.934042</td>\n",
       "      <td>0.835826</td>\n",
       "    </tr>\n",
       "    <tr>\n",
       "      <th>6</th>\n",
       "      <td>13</td>\n",
       "      <td>0.927434</td>\n",
       "      <td>0.827582</td>\n",
       "    </tr>\n",
       "    <tr>\n",
       "      <th>7</th>\n",
       "      <td>15</td>\n",
       "      <td>0.921953</td>\n",
       "      <td>0.819338</td>\n",
       "    </tr>\n",
       "    <tr>\n",
       "      <th>8</th>\n",
       "      <td>17</td>\n",
       "      <td>0.916593</td>\n",
       "      <td>0.811801</td>\n",
       "    </tr>\n",
       "    <tr>\n",
       "      <th>9</th>\n",
       "      <td>19</td>\n",
       "      <td>0.912284</td>\n",
       "      <td>0.805794</td>\n",
       "    </tr>\n",
       "    <tr>\n",
       "      <th>10</th>\n",
       "      <td>21</td>\n",
       "      <td>0.908341</td>\n",
       "      <td>0.798610</td>\n",
       "    </tr>\n",
       "    <tr>\n",
       "      <th>11</th>\n",
       "      <td>23</td>\n",
       "      <td>0.904610</td>\n",
       "      <td>0.793311</td>\n",
       "    </tr>\n",
       "    <tr>\n",
       "      <th>12</th>\n",
       "      <td>25</td>\n",
       "      <td>0.900713</td>\n",
       "      <td>0.784949</td>\n",
       "    </tr>\n",
       "  </tbody>\n",
       "</table>\n",
       "</div>"
      ],
      "text/plain": [
       "     K     Train      Test\n",
       "0    1  1.000000  0.913556\n",
       "1    3  0.974832  0.889766\n",
       "2    5  0.959743  0.872924\n",
       "3    7  0.949313  0.859381\n",
       "4    9  0.941015  0.846661\n",
       "5   11  0.934042  0.835826\n",
       "6   13  0.927434  0.827582\n",
       "7   15  0.921953  0.819338\n",
       "8   17  0.916593  0.811801\n",
       "9   19  0.912284  0.805794\n",
       "10  21  0.908341  0.798610\n",
       "11  23  0.904610  0.793311\n",
       "12  25  0.900713  0.784949"
      ]
     },
     "execution_count": 72,
     "metadata": {},
     "output_type": "execute_result"
    }
   ],
   "source": [
    "k=[]\n",
    "for i in range(1,26,2):\n",
    "    k.append(i)\n",
    "accuracy=pd.DataFrame(columns=['K','Train','Test'])\n",
    "accuracy['K']=k\n",
    "accuracy['Train']=accuracy_train\n",
    "accuracy['Test']=accuracy_test\n",
    "accuracy"
   ]
  },
  {
   "cell_type": "code",
   "execution_count": 73,
   "id": "a07d0180",
   "metadata": {},
   "outputs": [
    {
     "data": {
      "image/png": "[encoded data removed]",
      "text/plain": [
       "<Figure size 432x288 with 1 Axes>"
      ]
     },
     "metadata": {
      "needs_background": "light"
     },
     "output_type": "display_data"
    }
   ],
   "source": [
    "plt.plot(k, accuracy['Train'],color='red',label='Train')\n",
    "plt.plot(k, accuracy['Test'],color='blue',label='Test')\n",
    "plt.ylabel(\"Accuracy\")\n",
    "plt.xlabel(\"K\")\n",
    "plt.legend()\n",
    "plt.title(\"Accuracy Vs K\")\n",
    "plt.show()"
   ]
  },
  {
   "cell_type": "markdown",
   "id": "9c2e4f11",
   "metadata": {},
   "source": [
    "#### Fitting all the models in loop and computing train and test accuracies, confusion matrix and classification report:"
   ]
  },
  {
   "cell_type": "markdown",
   "id": "4382a557",
   "metadata": {},
   "source": [
    "#### Logistic Regression Model:"
   ]
  },
  {
   "cell_type": "code",
   "execution_count": 74,
   "id": "a272be04",
   "metadata": {},
   "outputs": [
    {
     "name": "stdout",
     "output_type": "stream",
     "text": [
      "Logistic Regression model with threshold value = 0.5\n",
      "Intercept:  [-1.57847841]\n",
      "\n",
      "Co-efficient:   [[-0.01461245 -0.10855523  1.70951571  0.13808114  0.15508671  0.20697582\n",
      "  -0.38044853  0.25723837  0.22750664 -0.33939042  0.06156835  0.15940229\n",
      "  -0.22434638  0.03795255]]\n",
      "\n",
      "Predicting Y_train and Y_test value using X_train and X_test.\n",
      "Y_train predicted:\n",
      " [0. 0. 0. ... 1. 1. 1.]\n",
      "\n",
      "Y_test predicted:\n",
      " [0. 0. 0. ... 0. 0. 0.]\n",
      "\t\t\t\t\t*****ACCURACY*****\n",
      "\n",
      "Training accuracy: 0.7878589482018332\n",
      "Testing accuracy: 0.6784830997526793\n",
      "----------------------------------------------------------------------------------------------------\n",
      "\n",
      "\t\t\t\t*****CONFUSION MATRIX*****\n",
      "\n",
      "Confustion matrix of train data:\n",
      " [[22691 10148]\n",
      " [ 3785 29054]]\n",
      "\n",
      "Confustion matrix of test data:\n",
      " [[5635 2702]\n",
      " [  28  126]]\n",
      "----------------------------------------------------------------------------------------------------\n",
      "\n",
      "\t\t\t\t*****CLASSIFICATION REPORT*****\n",
      "\n",
      "Classification Report of train data:\n",
      "\n",
      "               precision    recall  f1-score   support\n",
      "\n",
      "         0.0       0.86      0.69      0.77     32839\n",
      "         1.0       0.74      0.88      0.81     32839\n",
      "\n",
      "    accuracy                           0.79     65678\n",
      "   macro avg       0.80      0.79      0.79     65678\n",
      "weighted avg       0.80      0.79      0.79     65678\n",
      "\n",
      "---------------------------------------------------------------------------\n",
      "Classification Report of test data:\n",
      "\n",
      "               precision    recall  f1-score   support\n",
      "\n",
      "         0.0       1.00      0.68      0.80      8337\n",
      "         1.0       0.04      0.82      0.08       154\n",
      "\n",
      "    accuracy                           0.68      8491\n",
      "   macro avg       0.52      0.75      0.44      8491\n",
      "weighted avg       0.98      0.68      0.79      8491\n",
      "\n",
      "++++++++++++++++++++++++++++++++++++++++++++++++++++++++++++++++++++++++++++++++++++++++++++++++++++\n"
     ]
    }
   ],
   "source": [
    "log = LogisticRegression()\n",
    "log.fit(X_train_res,Y_train_res)\n",
    "\n",
    "print('Logistic Regression model with threshold value = 0.5')\n",
    "print('Intercept: ',log.intercept_)\n",
    "print('\\nCo-efficient:  ',log.coef_)\n",
    "\n",
    "print('\\nPredicting Y_train and Y_test value using X_train and X_test.')\n",
    "train_pred_log=log.predict(X_train_res)\n",
    "test_pred_log=log.predict(X_test)\n",
    "print(\"Y_train predicted:\\n\",train_pred_log)\n",
    "print(\"\\nY_test predicted:\\n\",test_pred_log)\n",
    "\n",
    "print(\"\\t\\t\\t\\t\\t*****ACCURACY*****\\n\")\n",
    "train_acc=accuracy_score(Y_train_res,train_pred_log)\n",
    "test_acc=accuracy_score(Y_test,test_pred_log)\n",
    "print(\"Training accuracy:\",accuracy_score(Y_train_res,train_pred_log))\n",
    "print(\"Testing accuracy:\",accuracy_score(Y_test,test_pred_log))\n",
    "print('-'*100)\n",
    "\n",
    "print(\"\\n\\t\\t\\t\\t*****CONFUSION MATRIX*****\\n\")\n",
    "print(\"Confustion matrix of train data:\\n\",confusion_matrix(Y_train_res,train_pred_log))\n",
    "print(\"\\nConfustion matrix of test data:\\n\",confusion_matrix(Y_test,test_pred_log))\n",
    "print('-'*100)\n",
    "\n",
    "print(\"\\n\\t\\t\\t\\t*****CLASSIFICATION REPORT*****\\n\")\n",
    "print(\"Classification Report of train data:\\n\\n\",classification_report(Y_train_res,train_pred_log))\n",
    "print('-'*75)\n",
    "print(\"Classification Report of test data:\\n\\n\",classification_report(Y_test,test_pred_log))\n",
    "print('+'*100)\n",
    "    \n",
    "train_accuracy.append(train_acc)\n",
    "test_accuracy.append(test_acc)"
   ]
  },
  {
   "cell_type": "markdown",
   "id": "af142c90",
   "metadata": {},
   "source": [
    "#### Threshold optimization for Logistic Regression:"
   ]
  },
  {
   "cell_type": "code",
   "execution_count": 75,
   "id": "45fc5e1f",
   "metadata": {},
   "outputs": [
    {
     "data": {
      "image/png": "[encoded data removed]",
      "text/plain": [
       "<Figure size 432x288 with 1 Axes>"
      ]
     },
     "metadata": {
      "needs_background": "light"
     },
     "output_type": "display_data"
    }
   ],
   "source": [
    "# fit a model\n",
    "import math\n",
    "#model = LogisticRegression(solver='newton-cg',penalty='l2',max_iter=5000,random_state=42)\n",
    "model = LogisticRegression()#parameters based on random search cv below\n",
    "model.fit(X_train_res, Y_train_res)\n",
    "\n",
    "# predict probabilities\n",
    "yhat = model.predict_proba(X_test)\n",
    "\n",
    "yhat = yhat[:, 1] # keep probabilities for the positive outcome only\n",
    "\n",
    "# calculate roc curves\n",
    "fpr, tpr, thresholds = roc_curve(Y_test, yhat)\n",
    "\n",
    "# plot the roc curve for the model\n",
    "plt.plot([0,1], [0,1], linestyle='--', label='No Skill')\n",
    "plt.plot(fpr, tpr, marker='.', label='Logistic')\n",
    "plt.xlabel('False Positive Rate')\n",
    "plt.ylabel('True Positive Rate')\n",
    "plt.legend()\n",
    "plt.show()"
   ]
  },
  {
   "cell_type": "code",
   "execution_count": 76,
   "id": "a31e52a8",
   "metadata": {},
   "outputs": [
    {
     "name": "stdout",
     "output_type": "stream",
     "text": [
      "Best Threshold=0.344174, G-Mean=0.752\n"
     ]
    },
    {
     "data": {
      "image/png": "[encoded data removed]",
      "text/plain": [
       "<Figure size 432x288 with 1 Axes>"
      ]
     },
     "metadata": {
      "needs_background": "light"
     },
     "output_type": "display_data"
    }
   ],
   "source": [
    "import math\n",
    "# calculate the g-mean for each threshold\n",
    "#print('tpr * (1-fpr)',tpr * (1-fpr))\n",
    "gmeans = np.sqrt(tpr * (1-fpr))\n",
    "\n",
    "#print('gmeans',gmeans)\n",
    "# locate the index of the largest g-mean\n",
    "ix = np.argmax(gmeans)\n",
    "print('Best Threshold=%f, G-Mean=%.3f' % (thresholds[ix], gmeans[ix]))\n",
    "\n",
    "# plot the roc curve for the model\n",
    "plt.plot([0,1], [0,1], linestyle='--', label='No Skill')\n",
    "plt.plot(fpr, tpr, marker='.', label='Logistic')\n",
    "plt.scatter(fpr[ix], tpr[ix], marker='o', color='black', label='Best')\n",
    "plt.xlabel('False Positive Rate')\n",
    "plt.ylabel('True Positive Rate')\n",
    "plt.legend()\n",
    "plt.show()"
   ]
  },
  {
   "cell_type": "markdown",
   "id": "d70fa4d5",
   "metadata": {},
   "source": [
    "#### New Logistic model with updated threshold:"
   ]
  },
  {
   "cell_type": "code",
   "execution_count": 80,
   "id": "456ece36",
   "metadata": {},
   "outputs": [],
   "source": [
    "log1 = LogisticRegression() #parameters based on random search cv below\n",
    "log1.fit(X_train_res, Y_train_res) \n",
    "THRESHOLD = 0.344174\n",
    "preds_train = np.where(log1.predict_proba(X_train_res)[:,1] > THRESHOLD, 1, 0)\n",
    "preds_test = np.where(log1.predict_proba(X_test)[:,1] > THRESHOLD, 1, 0)"
   ]
  },
  {
   "cell_type": "code",
   "execution_count": 81,
   "id": "4b335d3b",
   "metadata": {},
   "outputs": [
    {
     "data": {
      "text/plain": [
       "(array([0, 0, 0, ..., 1, 1, 1]), array([0, 0, 0, ..., 0, 0, 0]))"
      ]
     },
     "execution_count": 81,
     "metadata": {},
     "output_type": "execute_result"
    }
   ],
   "source": [
    "preds_train,preds_test"
   ]
  },
  {
   "cell_type": "code",
   "execution_count": 82,
   "id": "21802d6c",
   "metadata": {},
   "outputs": [
    {
     "data": {
      "text/plain": [
       "array([[0.82714296, 0.17285704],\n",
       "       [0.97576645, 0.02423355],\n",
       "       [0.97970317, 0.02029683],\n",
       "       ...,\n",
       "       [0.97382598, 0.02617402],\n",
       "       [0.99426677, 0.00573323],\n",
       "       [0.8871912 , 0.1128088 ]])"
      ]
     },
     "execution_count": 82,
     "metadata": {},
     "output_type": "execute_result"
    }
   ],
   "source": [
    "ytestproba = log1.predict_proba(X_test)\n",
    "ytestproba"
   ]
  },
  {
   "cell_type": "code",
   "execution_count": 83,
   "id": "c6ccc2a0",
   "metadata": {},
   "outputs": [
    {
     "data": {
      "text/plain": [
       "32355    0.0\n",
       "24931    0.0\n",
       "22487    0.0\n",
       "8882     0.0\n",
       "22455    0.0\n",
       "        ... \n",
       "36594    0.0\n",
       "34743    0.0\n",
       "37855    0.0\n",
       "37828    0.0\n",
       "11148    0.0\n",
       "Name: Stroke, Length: 8491, dtype: float64"
      ]
     },
     "execution_count": 83,
     "metadata": {},
     "output_type": "execute_result"
    }
   ],
   "source": [
    "Y_test"
   ]
  },
  {
   "cell_type": "code",
   "execution_count": 84,
   "id": "458ae90c",
   "metadata": {},
   "outputs": [
    {
     "name": "stdout",
     "output_type": "stream",
     "text": [
      "Logistic Regression model with threshold value = 0.263053\n",
      "Intercept:  [-1.57847841]\n",
      "\n",
      "Co-efficient:   [[-0.01461245 -0.10855523  1.70951571  0.13808114  0.15508671  0.20697582\n",
      "  -0.38044853  0.25723837  0.22750664 -0.33939042  0.06156835  0.15940229\n",
      "  -0.22434638  0.03795255]]\n"
     ]
    }
   ],
   "source": [
    "print('Logistic Regression model with threshold value = 0.263053')\n",
    "print('Intercept: ',log1.intercept_)\n",
    "print('\\nCo-efficient:  ',log1.coef_)"
   ]
  },
  {
   "cell_type": "code",
   "execution_count": 85,
   "id": "2f716ac6",
   "metadata": {},
   "outputs": [
    {
     "name": "stdout",
     "output_type": "stream",
     "text": [
      "\t\t\t\t*****ACCURACY*****\n",
      "\n",
      "Training accuracy: 0.794878041353269\n",
      "Testing accuracy: 0.6675303262277705\n",
      "____________________________________________________________________________________________________\n",
      "\n",
      "\t\t\t\t*****CONFUSION MATRIX*****\n",
      "\n",
      "Confustion matrix of train data:\n",
      " [[22300 10539]\n",
      " [ 2933 29906]]\n",
      "\n",
      "Confustion matrix of test data:\n",
      " [[5538 2799]\n",
      " [  24  130]]\n",
      "____________________________________________________________________________________________________\n",
      "\n",
      "\t\t\t\t*****CLASSIFICATION REPORT*****\n",
      "\n",
      "Classification Report of train data:\n",
      "\n",
      "               precision    recall  f1-score   support\n",
      "\n",
      "         0.0       0.88      0.68      0.77     32839\n",
      "         1.0       0.74      0.91      0.82     32839\n",
      "\n",
      "    accuracy                           0.79     65678\n",
      "   macro avg       0.81      0.79      0.79     65678\n",
      "weighted avg       0.81      0.79      0.79     65678\n",
      "\n",
      "---------------------------------------------------------------------------\n",
      "Classification Report of test data:\n",
      "\n",
      "               precision    recall  f1-score   support\n",
      "\n",
      "         0.0       1.00      0.66      0.80      8337\n",
      "         1.0       0.04      0.84      0.08       154\n",
      "\n",
      "    accuracy                           0.67      8491\n",
      "   macro avg       0.52      0.75      0.44      8491\n",
      "weighted avg       0.98      0.67      0.78      8491\n",
      "\n",
      "____________________________________________________________________________________________________\n"
     ]
    }
   ],
   "source": [
    "print(\"\\t\\t\\t\\t*****ACCURACY*****\\n\")\n",
    "train_acc=accuracy_score(Y_train_res,preds_train)\n",
    "test_acc=accuracy_score(Y_test,preds_test)\n",
    "print(\"Training accuracy:\",accuracy_score(Y_train_res,preds_train))\n",
    "print(\"Testing accuracy:\",accuracy_score(Y_test,preds_test))\n",
    "print('_'*100)\n",
    "\n",
    "print(\"\\n\\t\\t\\t\\t*****CONFUSION MATRIX*****\\n\")\n",
    "print(\"Confustion matrix of train data:\\n\",confusion_matrix(Y_train_res,preds_train))\n",
    "print(\"\\nConfustion matrix of test data:\\n\",confusion_matrix(Y_test,preds_test))\n",
    "print('_'*100)\n",
    "\n",
    "print(\"\\n\\t\\t\\t\\t*****CLASSIFICATION REPORT*****\\n\")\n",
    "print(\"Classification Report of train data:\\n\\n\",classification_report(Y_train_res,preds_train))\n",
    "print('-'*75)\n",
    "print(\"Classification Report of test data:\\n\\n\",classification_report(Y_test,preds_test))\n",
    "print('_'*100)\n",
    "\n",
    "train_accuracy.append(train_acc)\n",
    "test_accuracy.append(test_acc)"
   ]
  },
  {
   "cell_type": "markdown",
   "id": "27b945c4",
   "metadata": {},
   "source": [
    "There no significant improvement in the accuracy even after thresholding. Hence, Proceeding with other models to find the best model."
   ]
  },
  {
   "cell_type": "markdown",
   "id": "3d365236",
   "metadata": {},
   "source": [
    "#### Fitting Decision Tree, Random Forest, KNN, Naive Bayes, SVM and XG Boost models:"
   ]
  },
  {
   "cell_type": "code",
   "execution_count": 86,
   "id": "9317b931",
   "metadata": {},
   "outputs": [
    {
     "name": "stdout",
     "output_type": "stream",
     "text": [
      "Model: DecisionTreeClassifier()\n",
      "\n",
      "Fitting the model.\n",
      "\n",
      "Predicting Y_train and Y_test value using X_train and X_test.\n",
      "Y_train predicted:\n",
      " [0. 0. 0. ... 1. 1. 1.]\n",
      "\n",
      "Y_test predicted:\n",
      " [0. 0. 0. ... 0. 0. 0.]\n",
      "\t\t\t\t\t*****ACCURACY*****\n",
      "\n",
      "Training accuracy: 1.0\n",
      "Testing accuracy: 0.9206218348839948\n",
      "----------------------------------------------------------------------------------------------------\n",
      "\n",
      "\t\t\t\t*****CONFUSION MATRIX*****\n",
      "\n",
      "Confustion matrix of train data:\n",
      " [[32839     0]\n",
      " [    0 32839]]\n",
      "\n",
      "Confustion matrix of test data:\n",
      " [[7788  549]\n",
      " [ 125   29]]\n",
      "----------------------------------------------------------------------------------------------------\n",
      "\n",
      "\t\t\t\t*****CLASSIFICATION REPORT*****\n",
      "\n",
      "Classification Report of train data:\n",
      "\n",
      "               precision    recall  f1-score   support\n",
      "\n",
      "         0.0       1.00      1.00      1.00     32839\n",
      "         1.0       1.00      1.00      1.00     32839\n",
      "\n",
      "    accuracy                           1.00     65678\n",
      "   macro avg       1.00      1.00      1.00     65678\n",
      "weighted avg       1.00      1.00      1.00     65678\n",
      "\n",
      "---------------------------------------------------------------------------\n",
      "Classification Report of test data:\n",
      "\n",
      "               precision    recall  f1-score   support\n",
      "\n",
      "         0.0       0.98      0.93      0.96      8337\n",
      "         1.0       0.05      0.19      0.08       154\n",
      "\n",
      "    accuracy                           0.92      8491\n",
      "   macro avg       0.52      0.56      0.52      8491\n",
      "weighted avg       0.97      0.92      0.94      8491\n",
      "\n",
      "++++++++++++++++++++++++++++++++++++++++++++++++++++++++++++++++++++++++++++++++++++++++++++++++++++\n",
      "Model: RandomForestClassifier()\n",
      "\n",
      "Fitting the model.\n",
      "\n",
      "Predicting Y_train and Y_test value using X_train and X_test.\n",
      "Y_train predicted:\n",
      " [0. 0. 0. ... 1. 1. 1.]\n",
      "\n",
      "Y_test predicted:\n",
      " [0. 0. 0. ... 0. 0. 0.]\n",
      "\t\t\t\t\t*****ACCURACY*****\n",
      "\n",
      "Training accuracy: 1.0\n",
      "Testing accuracy: 0.9287480862089271\n",
      "----------------------------------------------------------------------------------------------------\n",
      "\n",
      "\t\t\t\t*****CONFUSION MATRIX*****\n",
      "\n",
      "Confustion matrix of train data:\n",
      " [[32839     0]\n",
      " [    0 32839]]\n",
      "\n",
      "Confustion matrix of test data:\n",
      " [[7868  469]\n",
      " [ 136   18]]\n",
      "----------------------------------------------------------------------------------------------------\n",
      "\n",
      "\t\t\t\t*****CLASSIFICATION REPORT*****\n",
      "\n",
      "Classification Report of train data:\n",
      "\n",
      "               precision    recall  f1-score   support\n",
      "\n",
      "         0.0       1.00      1.00      1.00     32839\n",
      "         1.0       1.00      1.00      1.00     32839\n",
      "\n",
      "    accuracy                           1.00     65678\n",
      "   macro avg       1.00      1.00      1.00     65678\n",
      "weighted avg       1.00      1.00      1.00     65678\n",
      "\n",
      "---------------------------------------------------------------------------\n",
      "Classification Report of test data:\n",
      "\n",
      "               precision    recall  f1-score   support\n",
      "\n",
      "         0.0       0.98      0.94      0.96      8337\n",
      "         1.0       0.04      0.12      0.06       154\n",
      "\n",
      "    accuracy                           0.93      8491\n",
      "   macro avg       0.51      0.53      0.51      8491\n",
      "weighted avg       0.97      0.93      0.95      8491\n",
      "\n",
      "++++++++++++++++++++++++++++++++++++++++++++++++++++++++++++++++++++++++++++++++++++++++++++++++++++\n",
      "Model: KNeighborsClassifier(n_neighbors=3)\n",
      "\n",
      "Fitting the model.\n",
      "\n",
      "Predicting Y_train and Y_test value using X_train and X_test.\n",
      "Y_train predicted:\n",
      " [0. 0. 0. ... 1. 1. 1.]\n",
      "\n",
      "Y_test predicted:\n",
      " [0. 0. 0. ... 0. 0. 0.]\n",
      "\t\t\t\t\t*****ACCURACY*****\n",
      "\n",
      "Training accuracy: 0.9748317549255459\n",
      "Testing accuracy: 0.8897656342009186\n",
      "----------------------------------------------------------------------------------------------------\n",
      "\n",
      "\t\t\t\t*****CONFUSION MATRIX*****\n",
      "\n",
      "Confustion matrix of train data:\n",
      " [[31273  1566]\n",
      " [   87 32752]]\n",
      "\n",
      "Confustion matrix of test data:\n",
      " [[7522  815]\n",
      " [ 121   33]]\n",
      "----------------------------------------------------------------------------------------------------\n",
      "\n",
      "\t\t\t\t*****CLASSIFICATION REPORT*****\n",
      "\n",
      "Classification Report of train data:\n",
      "\n",
      "               precision    recall  f1-score   support\n",
      "\n",
      "         0.0       1.00      0.95      0.97     32839\n",
      "         1.0       0.95      1.00      0.98     32839\n",
      "\n",
      "    accuracy                           0.97     65678\n",
      "   macro avg       0.98      0.97      0.97     65678\n",
      "weighted avg       0.98      0.97      0.97     65678\n",
      "\n",
      "---------------------------------------------------------------------------\n",
      "Classification Report of test data:\n",
      "\n",
      "               precision    recall  f1-score   support\n",
      "\n",
      "         0.0       0.98      0.90      0.94      8337\n",
      "         1.0       0.04      0.21      0.07       154\n",
      "\n",
      "    accuracy                           0.89      8491\n",
      "   macro avg       0.51      0.56      0.50      8491\n",
      "weighted avg       0.97      0.89      0.93      8491\n",
      "\n",
      "++++++++++++++++++++++++++++++++++++++++++++++++++++++++++++++++++++++++++++++++++++++++++++++++++++\n",
      "Model: GaussianNB()\n",
      "\n",
      "Fitting the model.\n",
      "\n",
      "Predicting Y_train and Y_test value using X_train and X_test.\n",
      "Y_train predicted:\n",
      " [1. 1. 0. ... 1. 1. 1.]\n",
      "\n",
      "Y_test predicted:\n",
      " [1. 0. 0. ... 0. 0. 1.]\n",
      "\t\t\t\t\t*****ACCURACY*****\n",
      "\n",
      "Training accuracy: 0.6389506379609611\n",
      "Testing accuracy: 0.28618537274761513\n",
      "----------------------------------------------------------------------------------------------------\n",
      "\n",
      "\t\t\t\t*****CONFUSION MATRIX*****\n",
      "\n",
      "Confustion matrix of train data:\n",
      " [[ 9194 23645]\n",
      " [   68 32771]]\n",
      "\n",
      "Confustion matrix of test data:\n",
      " [[2277 6060]\n",
      " [   1  153]]\n",
      "----------------------------------------------------------------------------------------------------\n",
      "\n",
      "\t\t\t\t*****CLASSIFICATION REPORT*****\n",
      "\n",
      "Classification Report of train data:\n",
      "\n",
      "               precision    recall  f1-score   support\n",
      "\n",
      "         0.0       0.99      0.28      0.44     32839\n",
      "         1.0       0.58      1.00      0.73     32839\n",
      "\n",
      "    accuracy                           0.64     65678\n",
      "   macro avg       0.79      0.64      0.59     65678\n",
      "weighted avg       0.79      0.64      0.59     65678\n",
      "\n",
      "---------------------------------------------------------------------------\n",
      "Classification Report of test data:\n",
      "\n",
      "               precision    recall  f1-score   support\n",
      "\n",
      "         0.0       1.00      0.27      0.43      8337\n",
      "         1.0       0.02      0.99      0.05       154\n",
      "\n",
      "    accuracy                           0.29      8491\n",
      "   macro avg       0.51      0.63      0.24      8491\n",
      "weighted avg       0.98      0.29      0.42      8491\n",
      "\n",
      "++++++++++++++++++++++++++++++++++++++++++++++++++++++++++++++++++++++++++++++++++++++++++++++++++++\n",
      "Model: SVC()\n",
      "\n",
      "Fitting the model.\n",
      "\n",
      "Predicting Y_train and Y_test value using X_train and X_test.\n",
      "Y_train predicted:\n",
      " [0. 1. 0. ... 1. 1. 1.]\n",
      "\n",
      "Y_test predicted:\n",
      " [0. 0. 0. ... 0. 0. 0.]\n",
      "\t\t\t\t\t*****ACCURACY*****\n",
      "\n",
      "Training accuracy: 0.8464934985840007\n",
      "Testing accuracy: 0.7472618066187728\n",
      "----------------------------------------------------------------------------------------------------\n",
      "\n",
      "\t\t\t\t*****CONFUSION MATRIX*****\n",
      "\n",
      "Confustion matrix of train data:\n",
      " [[25356  7483]\n",
      " [ 2599 30240]]\n",
      "\n",
      "Confustion matrix of test data:\n",
      " [[6247 2090]\n",
      " [  56   98]]\n",
      "----------------------------------------------------------------------------------------------------\n",
      "\n",
      "\t\t\t\t*****CLASSIFICATION REPORT*****\n",
      "\n",
      "Classification Report of train data:\n",
      "\n",
      "               precision    recall  f1-score   support\n",
      "\n",
      "         0.0       0.91      0.77      0.83     32839\n",
      "         1.0       0.80      0.92      0.86     32839\n",
      "\n",
      "    accuracy                           0.85     65678\n",
      "   macro avg       0.85      0.85      0.85     65678\n",
      "weighted avg       0.85      0.85      0.85     65678\n",
      "\n",
      "---------------------------------------------------------------------------\n",
      "Classification Report of test data:\n",
      "\n",
      "               precision    recall  f1-score   support\n",
      "\n",
      "         0.0       0.99      0.75      0.85      8337\n",
      "         1.0       0.04      0.64      0.08       154\n",
      "\n",
      "    accuracy                           0.75      8491\n",
      "   macro avg       0.52      0.69      0.47      8491\n",
      "weighted avg       0.97      0.75      0.84      8491\n",
      "\n",
      "++++++++++++++++++++++++++++++++++++++++++++++++++++++++++++++++++++++++++++++++++++++++++++++++++++\n"
     ]
    }
   ],
   "source": [
    "for model in models:\n",
    "    print('Model: {}'.format(model))\n",
    "    print('\\nFitting the model.')\n",
    "    model.fit(X_train_res,Y_train_res)\n",
    "        \n",
    "    print('\\nPredicting Y_train and Y_test value using X_train and X_test.')\n",
    "    train_pred=model.predict(X_train_res)\n",
    "    test_pred=model.predict(X_test)\n",
    "    print(\"Y_train predicted:\\n\",train_pred)\n",
    "    print(\"\\nY_test predicted:\\n\",test_pred)\n",
    "    \n",
    "    print(\"\\t\\t\\t\\t\\t*****ACCURACY*****\\n\")\n",
    "    train_acc=accuracy_score(Y_train_res,train_pred)\n",
    "    test_acc=accuracy_score(Y_test,test_pred)\n",
    "    print(\"Training accuracy:\",accuracy_score(Y_train_res,train_pred))\n",
    "    print(\"Testing accuracy:\",accuracy_score(Y_test,test_pred))\n",
    "    print('-'*100)\n",
    "\n",
    "    print(\"\\n\\t\\t\\t\\t*****CONFUSION MATRIX*****\\n\")\n",
    "    print(\"Confustion matrix of train data:\\n\",confusion_matrix(Y_train_res,train_pred))\n",
    "    print(\"\\nConfustion matrix of test data:\\n\",confusion_matrix(Y_test,test_pred))\n",
    "    print('-'*100)\n",
    "\n",
    "    print(\"\\n\\t\\t\\t\\t*****CLASSIFICATION REPORT*****\\n\")\n",
    "    print(\"Classification Report of train data:\\n\\n\",classification_report(Y_train_res,train_pred))\n",
    "    print('-'*75)\n",
    "    print(\"Classification Report of test data:\\n\\n\",classification_report(Y_test,test_pred))\n",
    "    print('+'*100)\n",
    "    \n",
    "    train_accuracy.append(train_acc)\n",
    "    test_accuracy.append(test_acc)"
   ]
  },
  {
   "cell_type": "code",
   "execution_count": 87,
   "id": "318c3fb4",
   "metadata": {},
   "outputs": [
    {
     "name": "stdout",
     "output_type": "stream",
     "text": [
      "[11:22:28] WARNING: C:/Users/Administrator/workspace/xgboost-win64_release_1.5.1/src/learner.cc:1115: Starting in XGBoost 1.3.0, the default evaluation metric used with the objective 'binary:logistic' was changed from 'error' to 'logloss'. Explicitly set eval_metric if you'd like to restore the old behavior.\n",
      "[0]\tvalidation_0-logloss:0.57917\n",
      "[1]\tvalidation_0-logloss:0.52253\n",
      "[2]\tvalidation_0-logloss:0.47385\n",
      "[3]\tvalidation_0-logloss:0.45112\n",
      "[4]\tvalidation_0-logloss:0.43399\n",
      "[5]\tvalidation_0-logloss:0.41303\n",
      "[6]\tvalidation_0-logloss:0.40057\n",
      "[7]\tvalidation_0-logloss:0.39150\n",
      "[8]\tvalidation_0-logloss:0.38219\n",
      "[9]\tvalidation_0-logloss:0.37527\n",
      "[10]\tvalidation_0-logloss:0.36963\n",
      "[11]\tvalidation_0-logloss:0.35697\n",
      "[12]\tvalidation_0-logloss:0.34840\n",
      "[13]\tvalidation_0-logloss:0.34363\n",
      "[14]\tvalidation_0-logloss:0.34032\n",
      "[15]\tvalidation_0-logloss:0.32930\n",
      "[16]\tvalidation_0-logloss:0.32345\n",
      "[17]\tvalidation_0-logloss:0.31372\n",
      "[18]\tvalidation_0-logloss:0.31029\n",
      "[19]\tvalidation_0-logloss:0.30712\n",
      "[20]\tvalidation_0-logloss:0.30094\n",
      "[21]\tvalidation_0-logloss:0.29823\n",
      "[22]\tvalidation_0-logloss:0.29556\n",
      "[23]\tvalidation_0-logloss:0.28778\n",
      "[24]\tvalidation_0-logloss:0.28153\n",
      "[25]\tvalidation_0-logloss:0.27931\n",
      "[26]\tvalidation_0-logloss:0.27466\n",
      "[27]\tvalidation_0-logloss:0.27248\n",
      "[28]\tvalidation_0-logloss:0.26936\n",
      "[29]\tvalidation_0-logloss:0.26594\n",
      "[30]\tvalidation_0-logloss:0.26359\n",
      "[31]\tvalidation_0-logloss:0.26374\n",
      "[32]\tvalidation_0-logloss:0.26190\n",
      "[33]\tvalidation_0-logloss:0.25821\n",
      "[34]\tvalidation_0-logloss:0.25530\n",
      "[35]\tvalidation_0-logloss:0.25281\n",
      "[36]\tvalidation_0-logloss:0.25022\n",
      "[37]\tvalidation_0-logloss:0.24987\n",
      "[38]\tvalidation_0-logloss:0.24853\n",
      "[39]\tvalidation_0-logloss:0.24700\n",
      "[40]\tvalidation_0-logloss:0.24557\n",
      "[41]\tvalidation_0-logloss:0.24524\n",
      "[42]\tvalidation_0-logloss:0.24316\n",
      "[43]\tvalidation_0-logloss:0.24200\n",
      "[44]\tvalidation_0-logloss:0.24040\n",
      "[45]\tvalidation_0-logloss:0.23883\n",
      "[46]\tvalidation_0-logloss:0.23756\n",
      "[47]\tvalidation_0-logloss:0.23579\n",
      "[48]\tvalidation_0-logloss:0.23546\n",
      "[49]\tvalidation_0-logloss:0.23409\n",
      "[50]\tvalidation_0-logloss:0.23361\n",
      "[51]\tvalidation_0-logloss:0.23352\n",
      "[52]\tvalidation_0-logloss:0.23143\n",
      "[53]\tvalidation_0-logloss:0.23072\n",
      "[54]\tvalidation_0-logloss:0.22906\n",
      "[55]\tvalidation_0-logloss:0.22777\n",
      "[56]\tvalidation_0-logloss:0.22640\n",
      "[57]\tvalidation_0-logloss:0.22533\n",
      "[58]\tvalidation_0-logloss:0.22384\n",
      "[59]\tvalidation_0-logloss:0.22351\n",
      "[60]\tvalidation_0-logloss:0.22093\n",
      "[61]\tvalidation_0-logloss:0.22041\n",
      "[62]\tvalidation_0-logloss:0.21963\n",
      "[63]\tvalidation_0-logloss:0.21908\n",
      "[64]\tvalidation_0-logloss:0.21841\n",
      "[65]\tvalidation_0-logloss:0.21785\n",
      "[66]\tvalidation_0-logloss:0.21765\n",
      "[67]\tvalidation_0-logloss:0.21729\n",
      "[68]\tvalidation_0-logloss:0.21623\n",
      "[69]\tvalidation_0-logloss:0.21552\n",
      "[70]\tvalidation_0-logloss:0.21543\n",
      "[71]\tvalidation_0-logloss:0.21475\n",
      "[72]\tvalidation_0-logloss:0.21417\n",
      "[73]\tvalidation_0-logloss:0.21319\n",
      "[74]\tvalidation_0-logloss:0.21287\n",
      "[75]\tvalidation_0-logloss:0.21230\n",
      "[76]\tvalidation_0-logloss:0.21109\n",
      "[77]\tvalidation_0-logloss:0.21029\n",
      "[78]\tvalidation_0-logloss:0.20847\n",
      "[79]\tvalidation_0-logloss:0.20802\n",
      "[80]\tvalidation_0-logloss:0.20607\n",
      "[81]\tvalidation_0-logloss:0.20523\n",
      "[82]\tvalidation_0-logloss:0.20543\n",
      "[83]\tvalidation_0-logloss:0.20500\n",
      "[84]\tvalidation_0-logloss:0.20376\n",
      "[85]\tvalidation_0-logloss:0.20384\n",
      "[86]\tvalidation_0-logloss:0.20341\n",
      "[87]\tvalidation_0-logloss:0.20239\n",
      "[88]\tvalidation_0-logloss:0.20031\n",
      "[89]\tvalidation_0-logloss:0.19868\n",
      "[90]\tvalidation_0-logloss:0.19779\n",
      "[91]\tvalidation_0-logloss:0.19735\n",
      "[92]\tvalidation_0-logloss:0.19551\n",
      "[93]\tvalidation_0-logloss:0.19452\n",
      "[94]\tvalidation_0-logloss:0.19378\n",
      "[95]\tvalidation_0-logloss:0.19228\n",
      "[96]\tvalidation_0-logloss:0.19091\n",
      "[97]\tvalidation_0-logloss:0.19079\n",
      "[98]\tvalidation_0-logloss:0.18900\n",
      "[99]\tvalidation_0-logloss:0.18861\n"
     ]
    },
    {
     "data": {
      "text/plain": [
       "XGBClassifier(base_score=0.5, booster='gbtree', colsample_bylevel=1,\n",
       "              colsample_bynode=1, colsample_bytree=1, enable_categorical=False,\n",
       "              gamma=0, gpu_id=-1, importance_type=None,\n",
       "              interaction_constraints='', learning_rate=0.300000012,\n",
       "              max_delta_step=0, max_depth=6, min_child_weight=1, missing=nan,\n",
       "              monotone_constraints='()', n_estimators=100, n_jobs=8,\n",
       "              num_parallel_tree=1, predictor='auto', random_state=0,\n",
       "              reg_alpha=0, reg_lambda=1, scale_pos_weight=1, subsample=1,\n",
       "              tree_method='exact', validate_parameters=1, verbosity=None)"
      ]
     },
     "execution_count": 87,
     "metadata": {},
     "output_type": "execute_result"
    }
   ],
   "source": [
    "from xgboost import XGBClassifier\n",
    "xgb = XGBClassifier()\n",
    "eval_set=[(X_test,Y_test)]\n",
    "xgb.fit(X_train_res,Y_train_res,early_stopping_rounds =10,eval_set=eval_set,verbose = True)"
   ]
  },
  {
   "cell_type": "code",
   "execution_count": 89,
   "id": "b7f9e384",
   "metadata": {},
   "outputs": [
    {
     "name": "stdout",
     "output_type": "stream",
     "text": [
      "\t\t\t\t\t*****ACCURACY*****\n",
      "\n",
      "Training accuracy: 0.9633362769877281\n",
      "Testing accuracy: 0.9159109645507008\n",
      "----------------------------------------------------------------------------------------------------\n",
      "\n",
      "\t\t\t\t*****CONFUSION MATRIX*****\n",
      "\n",
      "Confustion matrix of train data:\n",
      " [[31275  1564]\n",
      " [  844 31995]]\n",
      "\n",
      "Confustion matrix of test data:\n",
      " [[7747  590]\n",
      " [ 124   30]]\n",
      "----------------------------------------------------------------------------------------------------\n",
      "\n",
      "\t\t\t\t*****CLASSIFICATION REPORT*****\n",
      "\n",
      "Classification Report of train data:\n",
      "\n",
      "               precision    recall  f1-score   support\n",
      "\n",
      "         0.0       0.97      0.95      0.96     32839\n",
      "         1.0       0.95      0.97      0.96     32839\n",
      "\n",
      "    accuracy                           0.96     65678\n",
      "   macro avg       0.96      0.96      0.96     65678\n",
      "weighted avg       0.96      0.96      0.96     65678\n",
      "\n",
      "---------------------------------------------------------------------------\n",
      "Classification Report of test data:\n",
      "\n",
      "               precision    recall  f1-score   support\n",
      "\n",
      "         0.0       0.98      0.93      0.96      8337\n",
      "         1.0       0.05      0.19      0.08       154\n",
      "\n",
      "    accuracy                           0.92      8491\n",
      "   macro avg       0.52      0.56      0.52      8491\n",
      "weighted avg       0.97      0.92      0.94      8491\n",
      "\n",
      "++++++++++++++++++++++++++++++++++++++++++++++++++++++++++++++++++++++++++++++++++++++++++++++++++++\n"
     ]
    }
   ],
   "source": [
    "pred_xgb_train = xgb.predict(X_train_res)\n",
    "pred_xgb_test = xgb.predict(X_test)\n",
    "\n",
    "print(\"\\t\\t\\t\\t\\t*****ACCURACY*****\\n\")\n",
    "train_acc_xgb=accuracy_score(Y_train_res,pred_xgb_train)\n",
    "test_acc_xgb=accuracy_score(Y_test,pred_xgb_test)\n",
    "print(\"Training accuracy:\",accuracy_score(Y_train_res,pred_xgb_train))\n",
    "print(\"Testing accuracy:\",accuracy_score(Y_test,pred_xgb_test))\n",
    "\n",
    "print('-'*100)\n",
    "\n",
    "print(\"\\n\\t\\t\\t\\t*****CONFUSION MATRIX*****\\n\")\n",
    "print(\"Confustion matrix of train data:\\n\",confusion_matrix(Y_train_res,pred_xgb_train))\n",
    "print(\"\\nConfustion matrix of test data:\\n\",confusion_matrix(Y_test,pred_xgb_test))\n",
    "print('-'*100)\n",
    "\n",
    "print(\"\\n\\t\\t\\t\\t*****CLASSIFICATION REPORT*****\\n\")\n",
    "print(\"Classification Report of train data:\\n\\n\",classification_report(Y_train_res,pred_xgb_train))\n",
    "print('-'*75)\n",
    "print(\"Classification Report of test data:\\n\\n\",classification_report(Y_test,pred_xgb_test))\n",
    "print('+'*100)\n",
    "    \n",
    "train_accuracy.append(train_acc_xgb)\n",
    "test_accuracy.append(test_acc_xgb)"
   ]
  },
  {
   "cell_type": "code",
   "execution_count": 96,
   "id": "40840347",
   "metadata": {},
   "outputs": [
    {
     "data": {
      "text/html": [
       "<div>\n",
       "<style scoped>\n",
       "    .dataframe tbody tr th:only-of-type {\n",
       "        vertical-align: middle;\n",
       "    }\n",
       "\n",
       "    .dataframe tbody tr th {\n",
       "        vertical-align: top;\n",
       "    }\n",
       "\n",
       "    .dataframe thead th {\n",
       "        text-align: right;\n",
       "    }\n",
       "</style>\n",
       "<table border=\"1\" class=\"dataframe\">\n",
       "  <thead>\n",
       "    <tr style=\"text-align: right;\">\n",
       "      <th></th>\n",
       "      <th>Train Accuracy</th>\n",
       "      <th>Test Accuracy</th>\n",
       "    </tr>\n",
       "  </thead>\n",
       "  <tbody>\n",
       "    <tr>\n",
       "      <th>Logistic Regression (T=0.5)</th>\n",
       "      <td>0.787859</td>\n",
       "      <td>0.678483</td>\n",
       "    </tr>\n",
       "    <tr>\n",
       "      <th>Logistic Regression (T=0.344174)</th>\n",
       "      <td>0.794878</td>\n",
       "      <td>0.667530</td>\n",
       "    </tr>\n",
       "    <tr>\n",
       "      <th>Decision Tree Classifier</th>\n",
       "      <td>1.000000</td>\n",
       "      <td>0.920622</td>\n",
       "    </tr>\n",
       "    <tr>\n",
       "      <th>Random Forest Classifier</th>\n",
       "      <td>1.000000</td>\n",
       "      <td>0.928748</td>\n",
       "    </tr>\n",
       "    <tr>\n",
       "      <th>K Neighbors Classifier</th>\n",
       "      <td>0.974832</td>\n",
       "      <td>0.889766</td>\n",
       "    </tr>\n",
       "    <tr>\n",
       "      <th>Gaussian Naive Bayes</th>\n",
       "      <td>0.638951</td>\n",
       "      <td>0.286185</td>\n",
       "    </tr>\n",
       "    <tr>\n",
       "      <th>Support Vector Classifier</th>\n",
       "      <td>0.846493</td>\n",
       "      <td>0.747262</td>\n",
       "    </tr>\n",
       "    <tr>\n",
       "      <th>XG Boost Classifier</th>\n",
       "      <td>0.963336</td>\n",
       "      <td>0.915911</td>\n",
       "    </tr>\n",
       "  </tbody>\n",
       "</table>\n",
       "</div>"
      ],
      "text/plain": [
       "                                  Train Accuracy  Test Accuracy\n",
       "Logistic Regression (T=0.5)             0.787859       0.678483\n",
       "Logistic Regression (T=0.344174)        0.794878       0.667530\n",
       "Decision Tree Classifier                1.000000       0.920622\n",
       "Random Forest Classifier                1.000000       0.928748\n",
       "K Neighbors Classifier                  0.974832       0.889766\n",
       "Gaussian Naive Bayes                    0.638951       0.286185\n",
       "Support Vector Classifier               0.846493       0.747262\n",
       "XG Boost Classifier                     0.963336       0.915911"
      ]
     },
     "execution_count": 96,
     "metadata": {},
     "output_type": "execute_result"
    }
   ],
   "source": [
    "mdl = ['Logistic Regression (T=0.5)','Logistic Regression (T=0.344174)','Decision Tree Classifier','Random Forest Classifier','K Neighbors Classifier','Gaussian Naive Bayes','Support Vector Classifier','XG Boost Classifier']\n",
    "summary = pd.DataFrame(columns=['Train Accuracy','Test Accuracy'],index = mdl)\n",
    "summary['Train Accuracy']=train_accuracy\n",
    "summary['Test Accuracy']=test_accuracy\n",
    "summary"
   ]
  },
  {
   "cell_type": "markdown",
   "id": "d559129a",
   "metadata": {},
   "source": [
    "# \n",
    "Since I performed SMOTE I am taking Accuracy as my metrics and from the above we can see that my optimal model is XGBoost Classifier."
   ]
  },
  {
   "cell_type": "markdown",
   "id": "e71624c2",
   "metadata": {},
   "source": [
    "#### Hyperparamter Tuning using RandomSearchCV for XGBOOST:"
   ]
  },
  {
   "cell_type": "code",
   "execution_count": 97,
   "id": "1c803710",
   "metadata": {},
   "outputs": [
    {
     "name": "stdout",
     "output_type": "stream",
     "text": [
      "Parameters currently in use:\n",
      "\n",
      "{'base_score': None,\n",
      " 'booster': None,\n",
      " 'colsample_bylevel': None,\n",
      " 'colsample_bynode': None,\n",
      " 'colsample_bytree': None,\n",
      " 'enable_categorical': False,\n",
      " 'gamma': None,\n",
      " 'gpu_id': None,\n",
      " 'importance_type': None,\n",
      " 'interaction_constraints': None,\n",
      " 'learning_rate': None,\n",
      " 'max_delta_step': None,\n",
      " 'max_depth': None,\n",
      " 'min_child_weight': None,\n",
      " 'missing': nan,\n",
      " 'monotone_constraints': None,\n",
      " 'n_estimators': 100,\n",
      " 'n_jobs': None,\n",
      " 'num_parallel_tree': None,\n",
      " 'objective': 'binary:logistic',\n",
      " 'predictor': None,\n",
      " 'random_state': None,\n",
      " 'reg_alpha': None,\n",
      " 'reg_lambda': None,\n",
      " 'scale_pos_weight': None,\n",
      " 'subsample': None,\n",
      " 'tree_method': None,\n",
      " 'use_label_encoder': True,\n",
      " 'validate_parameters': None,\n",
      " 'verbosity': None}\n"
     ]
    }
   ],
   "source": [
    "classifier=XGBClassifier()\n",
    "from pprint import pprint\n",
    "# Look at parameters used by our current forest\n",
    "print('Parameters currently in use:\\n')\n",
    "pprint(classifier.get_params())"
   ]
  },
  {
   "cell_type": "code",
   "execution_count": 98,
   "id": "2b728748",
   "metadata": {},
   "outputs": [
    {
     "data": {
      "text/plain": [
       "{'learning_rate': [0.05, 0.1, 0.15, 0.2, 0.25, 0.3],\n",
       " 'max_depth': [3, 4, 5, 6, 8, 10, 12, 15],\n",
       " 'min_child_weight': [1, 3, 5, 7],\n",
       " 'gamma': [0.0, 0.1, 0.2, 0.3, 0.4],\n",
       " 'colsample_bytree': [0.3, 0.4, 0.5, 0.7]}"
      ]
     },
     "execution_count": 98,
     "metadata": {},
     "output_type": "execute_result"
    }
   ],
   "source": [
    "#n_estimators = [int(x) for x in np.linspace(start = 200, stop = 2000, num = 10)]\n",
    "params_xgb={\n",
    "     \"learning_rate\"    : [0.05, 0.10, 0.15, 0.20, 0.25, 0.30],\n",
    "     \"max_depth\"        : [3, 4, 5, 6, 8, 10, 12, 15],\n",
    "     \"min_child_weight\" : [1, 3, 5, 7],\n",
    "     \"gamma\"            : [0.0, 0.1, 0.2 , 0.3, 0.4],\n",
    "     \"colsample_bytree\" : [0.3, 0.4, 0.5 , 0.7]\n",
    "    }\n",
    "params_xgb"
   ]
  },
  {
   "cell_type": "code",
   "execution_count": 99,
   "id": "979da88f",
   "metadata": {},
   "outputs": [
    {
     "name": "stdout",
     "output_type": "stream",
     "text": [
      "Fitting 10 folds for each of 10 candidates, totalling 100 fits\n",
      "[11:30:37] WARNING: C:/Users/Administrator/workspace/xgboost-win64_release_1.5.1/src/learner.cc:1115: Starting in XGBoost 1.3.0, the default evaluation metric used with the objective 'binary:logistic' was changed from 'error' to 'logloss'. Explicitly set eval_metric if you'd like to restore the old behavior.\n"
     ]
    },
    {
     "data": {
      "text/plain": [
       "RandomizedSearchCV(cv=10,\n",
       "                   estimator=XGBClassifier(base_score=None, booster=None,\n",
       "                                           colsample_bylevel=None,\n",
       "                                           colsample_bynode=None,\n",
       "                                           colsample_bytree=None,\n",
       "                                           enable_categorical=False, gamma=None,\n",
       "                                           gpu_id=None, importance_type=None,\n",
       "                                           interaction_constraints=None,\n",
       "                                           learning_rate=None,\n",
       "                                           max_delta_step=None, max_depth=None,\n",
       "                                           min_child_weight=None, missing=nan,\n",
       "                                           monotone_constraint...\n",
       "                                           reg_alpha=None, reg_lambda=None,\n",
       "                                           scale_pos_weight=None,\n",
       "                                           subsample=None, tree_method=None,\n",
       "                                           validate_parameters=None,\n",
       "                                           verbosity=None),\n",
       "                   n_jobs=-1,\n",
       "                   param_distributions={'colsample_bytree': [0.3, 0.4, 0.5,\n",
       "                                                             0.7],\n",
       "                                        'gamma': [0.0, 0.1, 0.2, 0.3, 0.4],\n",
       "                                        'learning_rate': [0.05, 0.1, 0.15, 0.2,\n",
       "                                                          0.25, 0.3],\n",
       "                                        'max_depth': [3, 4, 5, 6, 8, 10, 12,\n",
       "                                                      15],\n",
       "                                        'min_child_weight': [1, 3, 5, 7]},\n",
       "                   scoring='roc_auc', verbose=3)"
      ]
     },
     "execution_count": 99,
     "metadata": {},
     "output_type": "execute_result"
    }
   ],
   "source": [
    "from sklearn.model_selection import RandomizedSearchCV\n",
    "classifier=XGBClassifier()\n",
    "random_search=RandomizedSearchCV(classifier,param_distributions=params_xgb,n_iter=10,scoring='roc_auc',n_jobs=-1,cv=10,verbose=3)\n",
    "# Fit the random search model\n",
    "random_search.fit(X_train_res, Y_train_res)"
   ]
  },
  {
   "cell_type": "code",
   "execution_count": 100,
   "id": "c2bbf8ef",
   "metadata": {},
   "outputs": [
    {
     "name": "stdout",
     "output_type": "stream",
     "text": [
      "Best parameters: {'min_child_weight': 7, 'max_depth': 12, 'learning_rate': 0.25, 'gamma': 0.4, 'colsample_bytree': 0.7}\n",
      "\n",
      "Best Score: 0.9954342896543336\n",
      "\n",
      "Best Estimator: XGBClassifier(base_score=0.5, booster='gbtree', colsample_bylevel=1,\n",
      "              colsample_bynode=1, colsample_bytree=0.7,\n",
      "              enable_categorical=False, gamma=0.4, gpu_id=-1,\n",
      "              importance_type=None, interaction_constraints='',\n",
      "              learning_rate=0.25, max_delta_step=0, max_depth=12,\n",
      "              min_child_weight=7, missing=nan, monotone_constraints='()',\n",
      "              n_estimators=100, n_jobs=8, num_parallel_tree=1, predictor='auto',\n",
      "              random_state=0, reg_alpha=0, reg_lambda=1, scale_pos_weight=1,\n",
      "              subsample=1, tree_method='exact', validate_parameters=1,\n",
      "              verbosity=None)\n"
     ]
    }
   ],
   "source": [
    "print('Best parameters:',random_search.best_params_)\n",
    "print('\\nBest Score:',random_search.best_score_)\n",
    "print('\\nBest Estimator:',random_search.best_estimator_)"
   ]
  },
  {
   "cell_type": "markdown",
   "id": "b9ab6c95",
   "metadata": {},
   "source": [
    "#### Fitting XGBOOST MODEL AFTER PARAMETER TUNIGN:"
   ]
  },
  {
   "cell_type": "code",
   "execution_count": 103,
   "id": "7fdcfb93",
   "metadata": {},
   "outputs": [
    {
     "name": "stdout",
     "output_type": "stream",
     "text": [
      "[11:31:11] WARNING: C:/Users/Administrator/workspace/xgboost-win64_release_1.5.1/src/learner.cc:1115: Starting in XGBoost 1.3.0, the default evaluation metric used with the objective 'binary:logistic' was changed from 'error' to 'logloss'. Explicitly set eval_metric if you'd like to restore the old behavior.\n",
      "[0]\tvalidation_0-logloss:0.55704\n",
      "[1]\tvalidation_0-logloss:0.47447\n",
      "[2]\tvalidation_0-logloss:0.42924\n",
      "[3]\tvalidation_0-logloss:0.38260\n",
      "[4]\tvalidation_0-logloss:0.36231\n",
      "[5]\tvalidation_0-logloss:0.33477\n",
      "[6]\tvalidation_0-logloss:0.30907\n",
      "[7]\tvalidation_0-logloss:0.29031\n",
      "[8]\tvalidation_0-logloss:0.28286\n",
      "[9]\tvalidation_0-logloss:0.27306\n",
      "[10]\tvalidation_0-logloss:0.26427\n",
      "[11]\tvalidation_0-logloss:0.25668\n",
      "[12]\tvalidation_0-logloss:0.25029\n",
      "[13]\tvalidation_0-logloss:0.24737\n",
      "[14]\tvalidation_0-logloss:0.24498\n",
      "[15]\tvalidation_0-logloss:0.24138\n",
      "[16]\tvalidation_0-logloss:0.23909\n",
      "[17]\tvalidation_0-logloss:0.23647\n",
      "[18]\tvalidation_0-logloss:0.23266\n",
      "[19]\tvalidation_0-logloss:0.23134\n",
      "[20]\tvalidation_0-logloss:0.22837\n",
      "[21]\tvalidation_0-logloss:0.22508\n",
      "[22]\tvalidation_0-logloss:0.22214\n",
      "[23]\tvalidation_0-logloss:0.21931\n",
      "[24]\tvalidation_0-logloss:0.21818\n",
      "[25]\tvalidation_0-logloss:0.21687\n",
      "[26]\tvalidation_0-logloss:0.21467\n",
      "[27]\tvalidation_0-logloss:0.21407\n",
      "[28]\tvalidation_0-logloss:0.21072\n",
      "[29]\tvalidation_0-logloss:0.20874\n",
      "[30]\tvalidation_0-logloss:0.20811\n",
      "[31]\tvalidation_0-logloss:0.20663\n",
      "[32]\tvalidation_0-logloss:0.20616\n",
      "[33]\tvalidation_0-logloss:0.20472\n",
      "[34]\tvalidation_0-logloss:0.20447\n",
      "[35]\tvalidation_0-logloss:0.20194\n",
      "[36]\tvalidation_0-logloss:0.19886\n",
      "[37]\tvalidation_0-logloss:0.19732\n",
      "[38]\tvalidation_0-logloss:0.19637\n",
      "[39]\tvalidation_0-logloss:0.19421\n",
      "[40]\tvalidation_0-logloss:0.19439\n",
      "[41]\tvalidation_0-logloss:0.19363\n",
      "[42]\tvalidation_0-logloss:0.19312\n",
      "[43]\tvalidation_0-logloss:0.19327\n",
      "[44]\tvalidation_0-logloss:0.19293\n",
      "[45]\tvalidation_0-logloss:0.19245\n",
      "[46]\tvalidation_0-logloss:0.18957\n",
      "[47]\tvalidation_0-logloss:0.18777\n",
      "[48]\tvalidation_0-logloss:0.18776\n",
      "[49]\tvalidation_0-logloss:0.18605\n",
      "[50]\tvalidation_0-logloss:0.18571\n",
      "[51]\tvalidation_0-logloss:0.18421\n",
      "[52]\tvalidation_0-logloss:0.18262\n",
      "[53]\tvalidation_0-logloss:0.18246\n",
      "[54]\tvalidation_0-logloss:0.18048\n",
      "[55]\tvalidation_0-logloss:0.18013\n",
      "[56]\tvalidation_0-logloss:0.17978\n",
      "[57]\tvalidation_0-logloss:0.17790\n",
      "[58]\tvalidation_0-logloss:0.17619\n",
      "[59]\tvalidation_0-logloss:0.17520\n",
      "[60]\tvalidation_0-logloss:0.17533\n",
      "[61]\tvalidation_0-logloss:0.17413\n",
      "[62]\tvalidation_0-logloss:0.17328\n",
      "[63]\tvalidation_0-logloss:0.17311\n",
      "[64]\tvalidation_0-logloss:0.17317\n",
      "[65]\tvalidation_0-logloss:0.17311\n",
      "[66]\tvalidation_0-logloss:0.17229\n",
      "[67]\tvalidation_0-logloss:0.17224\n",
      "[68]\tvalidation_0-logloss:0.17238\n",
      "[69]\tvalidation_0-logloss:0.17152\n",
      "[70]\tvalidation_0-logloss:0.17009\n",
      "[71]\tvalidation_0-logloss:0.16805\n",
      "[72]\tvalidation_0-logloss:0.16691\n",
      "[73]\tvalidation_0-logloss:0.16690\n",
      "[74]\tvalidation_0-logloss:0.16560\n",
      "[75]\tvalidation_0-logloss:0.16483\n",
      "[76]\tvalidation_0-logloss:0.16381\n",
      "[77]\tvalidation_0-logloss:0.16354\n",
      "[78]\tvalidation_0-logloss:0.16289\n",
      "[79]\tvalidation_0-logloss:0.16209\n",
      "[80]\tvalidation_0-logloss:0.16174\n",
      "[81]\tvalidation_0-logloss:0.16152\n",
      "[82]\tvalidation_0-logloss:0.16156\n",
      "[83]\tvalidation_0-logloss:0.16075\n",
      "[84]\tvalidation_0-logloss:0.15977\n",
      "[85]\tvalidation_0-logloss:0.15955\n",
      "[86]\tvalidation_0-logloss:0.15858\n",
      "[87]\tvalidation_0-logloss:0.15798\n",
      "[88]\tvalidation_0-logloss:0.15649\n",
      "[89]\tvalidation_0-logloss:0.15551\n",
      "[90]\tvalidation_0-logloss:0.15571\n",
      "[91]\tvalidation_0-logloss:0.15572\n",
      "[92]\tvalidation_0-logloss:0.15512\n",
      "[93]\tvalidation_0-logloss:0.15458\n",
      "[94]\tvalidation_0-logloss:0.15452\n",
      "[95]\tvalidation_0-logloss:0.15407\n",
      "[96]\tvalidation_0-logloss:0.15377\n",
      "[97]\tvalidation_0-logloss:0.15393\n",
      "[98]\tvalidation_0-logloss:0.15391\n",
      "[99]\tvalidation_0-logloss:0.15385\n"
     ]
    },
    {
     "data": {
      "text/plain": [
       "XGBClassifier(base_score=0.5, booster='gbtree', colsample_bylevel=1,\n",
       "              colsample_bynode=1, colsample_bytree=0.7,\n",
       "              enable_categorical=False, gamma=0.4, gpu_id=-1,\n",
       "              importance_type=None, interaction_constraints='',\n",
       "              learning_rate=0.25, max_delta_step=0, max_depth=12,\n",
       "              min_child_weight=7, missing=nan, monotone_constraints='()',\n",
       "              n_estimators=100, n_jobs=8, num_parallel_tree=1, predictor='auto',\n",
       "              random_state=0, reg_alpha=0, reg_lambda=1, scale_pos_weight=1,\n",
       "              subsample=1, tree_method='exact', validate_parameters=1,\n",
       "              verbosity=None)"
      ]
     },
     "execution_count": 103,
     "metadata": {},
     "output_type": "execute_result"
    }
   ],
   "source": [
    "xgb_tuned = XGBClassifier(min_child_weight= 7,max_depth= 12,learning_rate= 0.25,gamma= 0.4,colsample_bytree=0.7)\n",
    "eval_set=[(X_test,Y_test)]\n",
    "#clf.fit(X_train_res,Y_train_res,early_stopping_rounds =10,eval_metric='logloss',eval_set=eval_set,verbose = True)\n",
    "xgb_tuned.fit(X_train_res,Y_train_res,early_stopping_rounds =10,eval_set=eval_set,verbose = True)\n",
    "#clf.fit(X_train_res,Y_train_res)"
   ]
  },
  {
   "cell_type": "code",
   "execution_count": 104,
   "id": "6e6c3a54",
   "metadata": {},
   "outputs": [
    {
     "name": "stdout",
     "output_type": "stream",
     "text": [
      "\t\t\t\t\t*****ACCURACY*****\n",
      "\n",
      "Training accuracy: 0.9838302018940893\n",
      "Testing accuracy: 0.9450005888587917\n",
      "----------------------------------------------------------------------------------------------------\n",
      "\n",
      "\t\t\t\t*****CONFUSION MATRIX*****\n",
      "\n",
      "Confustion matrix of train data:\n",
      " [[32215   624]\n",
      " [  438 32401]]\n",
      "\n",
      "Confustion matrix of test data:\n",
      " [[8003  334]\n",
      " [ 133   21]]\n",
      "----------------------------------------------------------------------------------------------------\n",
      "\n",
      "\t\t\t\t*****CLASSIFICATION REPORT*****\n",
      "\n",
      "Classification Report of train data:\n",
      "\n",
      "               precision    recall  f1-score   support\n",
      "\n",
      "         0.0       0.99      0.98      0.98     32839\n",
      "         1.0       0.98      0.99      0.98     32839\n",
      "\n",
      "    accuracy                           0.98     65678\n",
      "   macro avg       0.98      0.98      0.98     65678\n",
      "weighted avg       0.98      0.98      0.98     65678\n",
      "\n",
      "---------------------------------------------------------------------------\n",
      "Classification Report of test data:\n",
      "\n",
      "               precision    recall  f1-score   support\n",
      "\n",
      "         0.0       0.98      0.96      0.97      8337\n",
      "         1.0       0.06      0.14      0.08       154\n",
      "\n",
      "    accuracy                           0.95      8491\n",
      "   macro avg       0.52      0.55      0.53      8491\n",
      "weighted avg       0.97      0.95      0.96      8491\n",
      "\n",
      "++++++++++++++++++++++++++++++++++++++++++++++++++++++++++++++++++++++++++++++++++++++++++++++++++++\n"
     ]
    }
   ],
   "source": [
    "pred_xgb_train = xgb_tuned.predict(X_train_res)\n",
    "pred_xgb_test = xgb_tuned.predict(X_test)\n",
    "\n",
    "print(\"\\t\\t\\t\\t\\t*****ACCURACY*****\\n\")\n",
    "train_acc_xgb=accuracy_score(Y_train_res,pred_xgb_train)\n",
    "test_acc_xgb=accuracy_score(Y_test,pred_xgb_test)\n",
    "print(\"Training accuracy:\",accuracy_score(Y_train_res,pred_xgb_train))\n",
    "print(\"Testing accuracy:\",accuracy_score(Y_test,pred_xgb_test))\n",
    "#print(\"Training recall_score:\",recall_score(Y_train_res,pred_xgb_train))\n",
    "#print(\"Testing recall_score:\",recall_score(Y_test,pred_xgb_test))\n",
    "print('-'*100)\n",
    "\n",
    "print(\"\\n\\t\\t\\t\\t*****CONFUSION MATRIX*****\\n\")\n",
    "print(\"Confustion matrix of train data:\\n\",confusion_matrix(Y_train_res,pred_xgb_train))\n",
    "print(\"\\nConfustion matrix of test data:\\n\",confusion_matrix(Y_test,pred_xgb_test))\n",
    "print('-'*100)\n",
    "\n",
    "print(\"\\n\\t\\t\\t\\t*****CLASSIFICATION REPORT*****\\n\")\n",
    "print(\"Classification Report of train data:\\n\\n\",classification_report(Y_train_res,pred_xgb_train))\n",
    "print('-'*75)\n",
    "print(\"Classification Report of test data:\\n\\n\",classification_report(Y_test,pred_xgb_test))\n",
    "print('+'*100)\n",
    "    \n",
    "train_accuracy.append(train_acc_xgb)\n",
    "test_accuracy.append(test_acc_xgb)"
   ]
  },
  {
   "cell_type": "markdown",
   "id": "ab35afb8",
   "metadata": {},
   "source": [
    "Thus, after fine tuning and comparing other models' performance, we conclude that XGBoost is the best fit model for this case."
   ]
  },
  {
   "cell_type": "markdown",
   "id": "1e6a36be",
   "metadata": {},
   "source": [
    "# --------------------------------------------------------------------------------------------------------------"
   ]
  },
  {
   "cell_type": "code",
   "execution_count": null,
   "id": "c59640e3",
   "metadata": {},
   "outputs": [],
   "source": []
  }
 ],
 "metadata": {
  "kernelspec": {
   "display_name": "Python 3 (ipykernel)",
   "language": "python",
   "name": "python3"
  },
  "language_info": {
   "codemirror_mode": {
    "name": "ipython",
    "version": 3
   },
   "file_extension": ".py",
   "mimetype": "text/x-python",
   "name": "python",
   "nbconvert_exporter": "python",
   "pygments_lexer": "ipython3",
   "version": "3.9.7"
  }
 },
 "nbformat": 4,
 "nbformat_minor": 5
}
